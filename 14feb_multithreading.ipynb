{
  "nbformat": 4,
  "nbformat_minor": 0,
  "metadata": {
    "colab": {
      "provenance": [],
      "authorship_tag": "ABX9TyP6nVPLe1PV2+1BlM3MyPpB",
      "include_colab_link": true
    },
    "kernelspec": {
      "name": "python3",
      "display_name": "Python 3"
    },
    "language_info": {
      "name": "python"
    }
  },
  "cells": [
    {
      "cell_type": "markdown",
      "metadata": {
        "id": "view-in-github",
        "colab_type": "text"
      },
      "source": [
        "<a href=\"https://colab.research.google.com/github/000626574705/python/blob/main/14feb_multithreading.ipynb\" target=\"_parent\"><img src=\"https://colab.research.google.com/assets/colab-badge.svg\" alt=\"Open In Colab\"/></a>"
      ]
    },
    {
      "cell_type": "code",
      "execution_count": null,
      "metadata": {
        "id": "LWS9L7fSJ95P"
      },
      "outputs": [],
      "source": []
    },
    {
      "cell_type": "markdown",
      "source": [
        "Q1 Solution - Multithreading in python refers to the ability of a  program to execute multiple threads concurrently within single process. threads share same memory space as other threads within process.\n",
        "\n",
        "used for performing multiple tasks simultaneously , making it more efficient and responsive.\n",
        "\n",
        "python provides a built-in 'threading' module is used to manage and create threads."
      ],
      "metadata": {
        "id": "zV5Sjbj-J-6A"
      }
    },
    {
      "cell_type": "markdown",
      "source": [
        "#Q2 solution-The threading module in Python is the built-in module used for creating and managing threads.we\n",
        "#  we can utilize the threading module to achieve multithreading in Python. It provides classes and functions to create and control threads, allowing you to perform concurrent execution of tasks within a single process.\n",
        "\n",
        "1. activeCount() function is used to retrieve the number of currently active (alive) thread objects.\n",
        "2. currenthread() he currentThread() function is a method provided by various programming languages and frameworks to obtain a reference to the currently executing thread. It allows you to access information and perform actions related to the thread in which the function is called.\n",
        "3. enumerate()  it is a built-in function that allows you to iterate over a seqoence (such as a list or tuple) and retrieve both the indes and value of each elemment.\n"
      ],
      "metadata": {
        "id": "2EcMrczGPajB"
      }
    },
    {
      "cell_type": "code",
      "source": [],
      "metadata": {
        "id": "iimPJKaTPoHa"
      },
      "execution_count": null,
      "outputs": []
    },
    {
      "cell_type": "markdown",
      "source": [
        "Q3 1. run():-module provides a run() method that you can override to define the code that will be executed in a separate thread\n",
        "\n",
        "2. start():- in Python's threading module, the start() method is used to start a new thread and execute the code defined in the run() method of the Thread object.\n",
        "3. join():- the join() method is used to wait for a thread to complete its execution before proceeding with the rest of the code. It allows you to synchronize the execution of multiple threads and ensure that a certain thread has finished its work before moving on.\n",
        "4. isAlive():-the isAlive() method is used to check whether a thread is currently executing or has finished its execution."
      ],
      "metadata": {
        "id": "9Z_wjoAlPrxn"
      }
    },
    {
      "cell_type": "code",
      "source": [
        "#Q4\n",
        "import threading\n",
        "l =[1,2,3,4,5,6]\n",
        "def square(l):\n",
        "  for i in l:\n",
        "    print(i**2)\n",
        "def cubes(l):\n",
        "  for i in l:\n",
        "    print(i**3)\n",
        "\n",
        "\n",
        "if __name__ =='__main__':\n",
        "  thread = [threading.Thread(target =square,args =(l,)) ]\n",
        "  thre= [threading.Thread(target =cubes,args =(l,))]\n",
        "  for t in thread :\n",
        "    t.start()\n",
        "    t.join()\n",
        "  for t in thre:\n",
        "    t.start()\n",
        "    t.join()\n"
      ],
      "metadata": {
        "colab": {
          "base_uri": "https://localhost:8080/"
        },
        "id": "zql2amqJQ6V7",
        "outputId": "2917167f-b514-4239-f62a-d0c127f1af59"
      },
      "execution_count": null,
      "outputs": [
        {
          "output_type": "stream",
          "name": "stdout",
          "text": [
            "1\n",
            "4\n",
            "9\n",
            "16\n",
            "25\n",
            "36\n",
            "1\n",
            "8\n",
            "27\n",
            "64\n",
            "125\n",
            "216\n"
          ]
        }
      ]
    },
    {
      "cell_type": "markdown",
      "source": [
        "Q5 solution - Multithreading, which involves executing multiple threads concurrently within a single process, offers several advantages and disadvantages. Here are some of them:\n",
        "Advantage of multithreding:\n",
        "1.Increased responsiveness and uI\n",
        "2.Enhanced performance and utilization of memory\n",
        "3.Simplified program design .\n",
        "4.Concurrency and parallelism.\n",
        "\n",
        "Disadvantage of multithreading\n",
        "1.Complexity and synchronization.\n",
        "2.testing and debugging complexity.\n",
        "3.reduced determination."
      ],
      "metadata": {
        "id": "wrTdrEemEdF3"
      }
    },
    {
      "cell_type": "markdown",
      "source": [
        "Q6 solution-Deadlock is a situation where two or more threads are unable to proceed because each is waiting for a resource that is held by another thread, resulting in a stalemate. Deadlocks can occur when multiple threads acquire locks or resources in different orders, leading to a circular dependency.\n",
        "\n",
        "Race condition- A race condition occurs when the outcome of a program depends on the relative timing of events or operations. It happens when multiple threads access and manipulate shared data concurrently without proper synchronization. The result is unpredictable and may lead to incorrect behavior or data corruption."
      ],
      "metadata": {
        "id": "Us3lu9dMG1Q_"
      }
    },
    {
      "cell_type": "code",
      "source": [],
      "metadata": {
        "id": "YTDY9tASRDZf"
      },
      "execution_count": null,
      "outputs": []
    }
  ]
}