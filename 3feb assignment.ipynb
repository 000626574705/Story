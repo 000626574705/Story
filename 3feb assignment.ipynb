{
  "nbformat": 4,
  "nbformat_minor": 0,
  "metadata": {
    "colab": {
      "provenance": [],
      "authorship_tag": "ABX9TyOXy1kCbO65hSUZDfjOLdao",
      "include_colab_link": true
    },
    "kernelspec": {
      "name": "python3",
      "display_name": "Python 3"
    },
    "language_info": {
      "name": "python"
    }
  },
  "cells": [
    {
      "cell_type": "markdown",
      "metadata": {
        "id": "view-in-github",
        "colab_type": "text"
      },
      "source": [
        "<a href=\"https://colab.research.google.com/github/000626574705/Story/blob/main/3feb%20assignment.ipynb\" target=\"_parent\"><img src=\"https://colab.research.google.com/assets/colab-badge.svg\" alt=\"Open In Colab\"/></a>"
      ]
    },
    {
      "cell_type": "code",
      "execution_count": 1,
      "metadata": {
        "id": "Dvvzr9NFkT7y"
      },
      "outputs": [],
      "source": [
        "# Q1"
      ]
    },
    {
      "cell_type": "code",
      "source": [
        "# def keyword is  used to create a function"
      ],
      "metadata": {
        "id": "zXYSyPOwkcV-"
      },
      "execution_count": 2,
      "outputs": []
    },
    {
      "cell_type": "code",
      "source": [
        "def oddnumm():\n",
        "    l=[]\n",
        "    for i in range(25):\n",
        "        if i%2!=0:\n",
        "            l.append(i)\n",
        "    return l"
      ],
      "metadata": {
        "id": "VvmJusrbkoTU"
      },
      "execution_count": 19,
      "outputs": []
    },
    {
      "cell_type": "code",
      "source": [
        "oddnumm()"
      ],
      "metadata": {
        "colab": {
          "base_uri": "https://localhost:8080/"
        },
        "id": "ivDWDkWalXx_",
        "outputId": "111890f2-b9cd-4189-a970-f578e2e5c076"
      },
      "execution_count": 20,
      "outputs": [
        {
          "output_type": "execute_result",
          "data": {
            "text/plain": [
              "[1, 3, 5, 7, 9, 11, 13, 15, 17, 19, 21, 23]"
            ]
          },
          "metadata": {},
          "execution_count": 20
        }
      ]
    },
    {
      "cell_type": "code",
      "source": [
        "# Q2 "
      ],
      "metadata": {
        "id": "Fr_Mrv_PrNcY"
      },
      "execution_count": 21,
      "outputs": []
    },
    {
      "cell_type": "code",
      "source": [
        "# *args is used for dynamic allocation of varialble or arguments or we use it when user want to enter multiple args and **kwargs is used for allocation of arguments in form of key:value pair "
      ],
      "metadata": {
        "id": "yYCs732brdmF"
      },
      "execution_count": 22,
      "outputs": []
    },
    {
      "cell_type": "code",
      "source": [
        "def test(*args):\n",
        "  return args"
      ],
      "metadata": {
        "id": "GDpy82yxr8o_"
      },
      "execution_count": 23,
      "outputs": []
    },
    {
      "cell_type": "code",
      "source": [
        "test(1,2,3)"
      ],
      "metadata": {
        "colab": {
          "base_uri": "https://localhost:8080/"
        },
        "id": "jt9hg34osIWX",
        "outputId": "ba423c3d-4ba9-4d5e-ec01-227110f98577"
      },
      "execution_count": 25,
      "outputs": [
        {
          "output_type": "execute_result",
          "data": {
            "text/plain": [
              "(1, 2, 3)"
            ]
          },
          "metadata": {},
          "execution_count": 25
        }
      ]
    },
    {
      "cell_type": "code",
      "source": [
        "def test1(**kwargs):\n",
        "  return kwargs"
      ],
      "metadata": {
        "id": "ZsPq5LY3sQem"
      },
      "execution_count": 27,
      "outputs": []
    },
    {
      "cell_type": "code",
      "source": [
        "test1()"
      ],
      "metadata": {
        "colab": {
          "base_uri": "https://localhost:8080/"
        },
        "id": "avozUD-Lscd4",
        "outputId": "1e336f2d-d962-4918-e90a-165696c80275"
      },
      "execution_count": 37,
      "outputs": [
        {
          "output_type": "execute_result",
          "data": {
            "text/plain": [
              "{}"
            ]
          },
          "metadata": {},
          "execution_count": 37
        }
      ]
    },
    {
      "cell_type": "code",
      "source": [
        "test1(a=5,b=[1,2,3,2])"
      ],
      "metadata": {
        "colab": {
          "base_uri": "https://localhost:8080/"
        },
        "id": "bOdVDFAPsrHf",
        "outputId": "67c1c7d3-3b28-4f7e-e0f7-3dbced2a5fcc"
      },
      "execution_count": 44,
      "outputs": [
        {
          "output_type": "execute_result",
          "data": {
            "text/plain": [
              "{'a': 5, 'b': [1, 2, 3, 2]}"
            ]
          },
          "metadata": {},
          "execution_count": 44
        }
      ]
    },
    {
      "cell_type": "code",
      "source": [
        "# Iterators are used to iterate over a sequence of elements or values one at a time.It provides a way to access the elements in a sequential manner, fetching the next element each time."
      ],
      "metadata": {
        "id": "qoRQP-M0ttTR"
      },
      "execution_count": 46,
      "outputs": []
    },
    {
      "cell_type": "code",
      "source": [],
      "metadata": {
        "id": "nDD7ssYcvj3n"
      },
      "execution_count": null,
      "outputs": []
    }
  ]
}