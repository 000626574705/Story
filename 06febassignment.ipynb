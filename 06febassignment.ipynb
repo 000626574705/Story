{
  "nbformat": 4,
  "nbformat_minor": 0,
  "metadata": {
    "colab": {
      "provenance": [],
      "authorship_tag": "ABX9TyO6cpNdI6upOgkqA+lMFUKv",
      "include_colab_link": true
    },
    "kernelspec": {
      "name": "python3",
      "display_name": "Python 3"
    },
    "language_info": {
      "name": "python"
    }
  },
  "cells": [
    {
      "cell_type": "markdown",
      "metadata": {
        "id": "view-in-github",
        "colab_type": "text"
      },
      "source": [
        "<a href=\"https://colab.research.google.com/github/000626574705/python/blob/main/06febassignment.ipynb\" target=\"_parent\"><img src=\"https://colab.research.google.com/assets/colab-badge.svg\" alt=\"Open In Colab\"/></a>"
      ]
    },
    {
      "cell_type": "code",
      "execution_count": 15,
      "metadata": {
        "id": "6yZXzw-9mb29"
      },
      "outputs": [],
      "source": [
        "#Q1 ans\n",
        "\n",
        "def product(l):\n",
        "  l1=[]\n",
        "  def number(item):\n",
        "    if isitem(item,(int,float)):\n",
        "      l1.append(item)\n",
        "    elif isitem(item,dict):\n",
        "      for i in item.values():\n",
        "        number(value)\n",
        "    elif isitem(item,list):\n",
        "      for j in item:\n",
        "        number(j)\n",
        "    elif isitem(item,tuple):\n",
        "      for j in item:\n",
        "        number(j)\n",
        "\n",
        "  for item in l:\n",
        "    number(item)\n",
        "\n",
        "\n",
        "  product=1\n",
        "  for num in l1:\n",
        "    product=product*num\n",
        "  return product"
      ]
    },
    {
      "cell_type": "code",
      "source": [
        "#Q2\n",
        "def encrytpting(sent):\n",
        "  newsent = sent.replace(\"b\",\"y\")\n",
        "  newsent1 = newsent.replace(\"a\",\"z\")\n",
        "  newsent2 = newsent1.replace(\"c\",\"x\")\n",
        "  newsent3 = newsent2.replace(\" \",\"$\")\n",
        "\n",
        "\n",
        "  return newsent3\n",
        "\n",
        "\n"
      ],
      "metadata": {
        "id": "GBAJlYSLn6F9"
      },
      "execution_count": 63,
      "outputs": []
    },
    {
      "cell_type": "code",
      "source": [
        "s=\"I want to becomme a Data Scientist\"\n",
        "s1=s.lower()\n",
        "encrytpting(s1)\n"
      ],
      "metadata": {
        "colab": {
          "base_uri": "https://localhost:8080/",
          "height": 36
        },
        "id": "2hn5A7N1pOmO",
        "outputId": "626f049d-e4ab-43de-9218-57060a6f4794"
      },
      "execution_count": 64,
      "outputs": [
        {
          "output_type": "execute_result",
          "data": {
            "text/plain": [
              "'i$wznt$to$yexomme$z$dztz$sxientist'"
            ],
            "application/vnd.google.colaboratory.intrinsic+json": {
              "type": "string"
            }
          },
          "metadata": {},
          "execution_count": 64
        }
      ]
    }
  ]
}