{
  "cells": [
    {
      "cell_type": "markdown",
      "metadata": {
        "id": "view-in-github",
        "colab_type": "text"
      },
      "source": [
        "<a href=\"https://colab.research.google.com/github/000626574705/python/blob/main/decorator.ipynb\" target=\"_parent\"><img src=\"https://colab.research.google.com/assets/colab-badge.svg\" alt=\"Open In Colab\"/></a>"
      ]
    },
    {
      "cell_type": "code",
      "execution_count": null,
      "metadata": {
        "id": "Uu-YguefOqeU"
      },
      "outputs": [],
      "source": [
        "def test():\n",
        "  print(\"function\")"
      ]
    },
    {
      "cell_type": "code",
      "execution_count": null,
      "metadata": {
        "colab": {
          "base_uri": "https://localhost:8080/"
        },
        "id": "lz2_bFWLO33G",
        "outputId": "363d4344-df36-4789-9deb-93d5011d87bc"
      },
      "outputs": [
        {
          "name": "stdout",
          "output_type": "stream",
          "text": [
            "function\n"
          ]
        }
      ],
      "source": [
        "test()\n"
      ]
    },
    {
      "cell_type": "code",
      "execution_count": null,
      "metadata": {
        "id": "GRfm0El4O7An"
      },
      "outputs": [],
      "source": [
        "def test1(func):\n",
        "  def test2():\n",
        "\n",
        "     print(\"1\")\n",
        "     func()\n",
        "     print(\"2\")\n",
        "  return test2"
      ]
    },
    {
      "cell_type": "code",
      "execution_count": null,
      "metadata": {
        "id": "QwxhiwC7Rf9f"
      },
      "outputs": [],
      "source": [
        "@test1\n",
        "def test3():\n",
        "  print(4,5)\n"
      ]
    },
    {
      "cell_type": "code",
      "execution_count": null,
      "metadata": {
        "colab": {
          "base_uri": "https://localhost:8080/"
        },
        "id": "_Ovy95qYRs0g",
        "outputId": "94ba5b88-f97a-46a1-bead-74d45659d88e"
      },
      "outputs": [
        {
          "name": "stdout",
          "output_type": "stream",
          "text": [
            "1\n",
            "4 5\n",
            "2\n"
          ]
        }
      ],
      "source": [
        "test3()"
      ]
    },
    {
      "cell_type": "code",
      "execution_count": null,
      "metadata": {
        "id": "cgNC3aldRuGx"
      },
      "outputs": [],
      "source": [
        "import time\n",
        "\n",
        "def timer_test(func):\n",
        "  def timer_test_inner():\n",
        "    start=time.time()\n",
        "    func()\n",
        "    end = time.time()\n",
        "    print(end-start)\n",
        "  return timer_test_inner"
      ]
    },
    {
      "cell_type": "code",
      "execution_count": null,
      "metadata": {
        "id": "MF75mYniR1g-"
      },
      "outputs": [],
      "source": [
        "@timer_test\n",
        "def test1():\n",
        "  for i in range(1,10):\n",
        "    print(i)"
      ]
    },
    {
      "cell_type": "code",
      "execution_count": null,
      "metadata": {
        "colab": {
          "base_uri": "https://localhost:8080/"
        },
        "id": "YN3P0sxhSZO9",
        "outputId": "6047a80a-b565-4ccb-c46f-fdc3eafdb777"
      },
      "outputs": [
        {
          "name": "stdout",
          "output_type": "stream",
          "text": [
            "1\n",
            "2\n",
            "3\n",
            "4\n",
            "5\n",
            "6\n",
            "7\n",
            "8\n",
            "9\n",
            "0.0017817020416259766\n"
          ]
        }
      ],
      "source": [
        "test1()"
      ]
    },
    {
      "cell_type": "code",
      "execution_count": null,
      "metadata": {
        "id": "ntJ1YoHXSbl1"
      },
      "outputs": [],
      "source": [
        "class pwskills:\n",
        "\n",
        "  def __init__(self, name ,number):\n",
        "    self.name = name\n",
        "    self.number=number\n",
        "  def students_data(self):\n",
        "    print(self.name,self.number)"
      ]
    },
    {
      "cell_type": "code",
      "execution_count": null,
      "metadata": {
        "id": "EbszJVtHb-R_"
      },
      "outputs": [],
      "source": [
        "pw = pwskills(\"shreeti\",6265603100)"
      ]
    },
    {
      "cell_type": "code",
      "execution_count": null,
      "metadata": {
        "colab": {
          "base_uri": "https://localhost:8080/"
        },
        "id": "1Shu3DK6cBgc",
        "outputId": "b2051262-a72e-420e-9d23-b039cf45c506"
      },
      "outputs": [
        {
          "name": "stdout",
          "output_type": "stream",
          "text": [
            "shreeti 6265603100\n"
          ]
        }
      ],
      "source": [
        "pw.students_data()"
      ]
    },
    {
      "cell_type": "code",
      "execution_count": null,
      "metadata": {
        "colab": {
          "base_uri": "https://localhost:8080/",
          "height": 36
        },
        "id": "KCkN4uxsdEXa",
        "outputId": "e3f3046d-8d21-47c2-bcd6-d167eb29ff8b"
      },
      "outputs": [
        {
          "data": {
            "application/vnd.google.colaboratory.intrinsic+json": {
              "type": "string"
            },
            "text/plain": [
              "'shreeti'"
            ]
          },
          "execution_count": 43,
          "metadata": {},
          "output_type": "execute_result"
        }
      ],
      "source": [
        "pw.name"
      ]
    },
    {
      "cell_type": "code",
      "execution_count": null,
      "metadata": {
        "colab": {
          "base_uri": "https://localhost:8080/"
        },
        "id": "7nxhw79pdNcU",
        "outputId": "8f674f74-bfa2-4cbd-e661-11797f944f35"
      },
      "outputs": [
        {
          "data": {
            "text/plain": [
              "6265603100"
            ]
          },
          "execution_count": 44,
          "metadata": {},
          "output_type": "execute_result"
        }
      ],
      "source": [
        "pw.number"
      ]
    },
    {
      "cell_type": "code",
      "execution_count": null,
      "metadata": {
        "colab": {
          "background_save": true
        },
        "id": "ffhRMlUEdQcB"
      },
      "outputs": [],
      "source": [
        "class pwskills1:\n",
        "  mobile_num=6265603100  #class variable\n",
        "  def __init__(self,name,email):\n",
        "    self.name=name\n",
        "    self.email=email\n",
        "\n",
        "  @classmethod\n",
        "  def details(cls, name , email):\n",
        "    return cls(name,email)\n",
        "\n",
        "  def students_data(self):\n",
        "    print(self.name)"
      ]
    },
    {
      "cell_type": "code",
      "execution_count": null,
      "metadata": {
        "id": "3C2D7GSUfNgA"
      },
      "outputs": [],
      "source": [
        "pw1=pwskills1.details(\"sudh\",\"sudh@gmail.com\")"
      ]
    },
    {
      "cell_type": "code",
      "execution_count": null,
      "metadata": {
        "colab": {
          "base_uri": "https://localhost:8080/",
          "height": 36
        },
        "id": "g4Ns3x9hfWoG",
        "outputId": "e0b2545b-ea02-4a3f-f4b5-e82158aa144a"
      },
      "outputs": [
        {
          "data": {
            "application/vnd.google.colaboratory.intrinsic+json": {
              "type": "string"
            },
            "text/plain": [
              "'sudh'"
            ]
          },
          "execution_count": 63,
          "metadata": {},
          "output_type": "execute_result"
        }
      ],
      "source": [
        "pw1.name"
      ]
    },
    {
      "cell_type": "code",
      "execution_count": null,
      "metadata": {
        "colab": {
          "base_uri": "https://localhost:8080/",
          "height": 36
        },
        "id": "teZDfJhUfgBa",
        "outputId": "254ab4d8-7e8d-4834-8c7f-57309f07293f"
      },
      "outputs": [
        {
          "data": {
            "application/vnd.google.colaboratory.intrinsic+json": {
              "type": "string"
            },
            "text/plain": [
              "'sudh@gmail.com'"
            ]
          },
          "execution_count": 68,
          "metadata": {},
          "output_type": "execute_result"
        }
      ],
      "source": [
        "pw1.email"
      ]
    },
    {
      "cell_type": "code",
      "execution_count": null,
      "metadata": {
        "id": "DQS2p0jkhUWR"
      },
      "outputs": [],
      "source": []
    }
  ],
  "metadata": {
    "colab": {
      "provenance": [],
      "authorship_tag": "ABX9TyMFENIwRx11K14jTFmK3sEE",
      "include_colab_link": true
    },
    "kernelspec": {
      "display_name": "Python 3",
      "name": "python3"
    },
    "language_info": {
      "name": "python"
    }
  },
  "nbformat": 4,
  "nbformat_minor": 0
}