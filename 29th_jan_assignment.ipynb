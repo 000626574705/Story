{
  "nbformat": 4,
  "nbformat_minor": 0,
  "metadata": {
    "colab": {
      "provenance": [],
      "authorship_tag": "ABX9TyPfgZl3uSIVYEItfvN8dkRw",
      "include_colab_link": true
    },
    "kernelspec": {
      "name": "python3",
      "display_name": "Python 3"
    },
    "language_info": {
      "name": "python"
    }
  },
  "cells": [
    {
      "cell_type": "markdown",
      "metadata": {
        "id": "view-in-github",
        "colab_type": "text"
      },
      "source": [
        "<a href=\"https://colab.research.google.com/github/000626574705/python/blob/main/29th_jan_assignment.ipynb\" target=\"_parent\"><img src=\"https://colab.research.google.com/assets/colab-badge.svg\" alt=\"Open In Colab\"/></a>"
      ]
    },
    {
      "cell_type": "code",
      "execution_count": 2,
      "metadata": {
        "id": "m5mvYSsqeM4_"
      },
      "outputs": [],
      "source": [
        "#Q1 ans-Guido van Rossum"
      ]
    },
    {
      "cell_type": "code",
      "source": [
        "#Q2 ans-Procedural Programming,Object-Oriented Programming (OOP),Functional Programming,Imperative Programming,Scripting etc."
      ],
      "metadata": {
        "id": "-keLesjsgmEK"
      },
      "execution_count": 1,
      "outputs": []
    },
    {
      "cell_type": "code",
      "source": [
        "#Q3 ans- yes it is case sensitive"
      ],
      "metadata": {
        "id": "QHV-VXm7hM_V"
      },
      "execution_count": 4,
      "outputs": []
    },
    {
      "cell_type": "code",
      "source": [
        "#Q4 ans-The correct extension for Python files is \".py\". When you save a Python file, it is recommended to use the \".py\" extension at the end of the filename"
      ],
      "metadata": {
        "id": "vVImvfs9hW70"
      },
      "execution_count": 6,
      "outputs": []
    },
    {
      "cell_type": "code",
      "source": [
        "#Q5 Python is an interpreted language.The Python interpreter reads your code line by line and translates it into machine instructions on-the-fly, executing each line as it encounters it"
      ],
      "metadata": {
        "id": "cB7MYNHFhlyt"
      },
      "execution_count": 7,
      "outputs": []
    },
    {
      "cell_type": "code",
      "source": [
        "from ast import Pass\n",
        "#Q6 ans - In Python, there are several blocks of code that are commonly used for defining different parts of a program. Here are a few examples:\n",
        "\n",
        "\n",
        "#Function Definition:\n",
        "def function():\n",
        "  pass\n",
        "\n",
        "#class definition:\n",
        "class test:\n",
        "  def child(self):\n",
        "    pass\n",
        "\n",
        "#if ,else ,elif condition\n",
        "a=10\n",
        "if a>10:\n",
        "  Pass\n",
        "elif a<10:\n",
        "  Pass\n",
        "else:\n",
        "  pass"
      ],
      "metadata": {
        "id": "-bBzi3aEiRXq"
      },
      "execution_count": 10,
      "outputs": []
    },
    {
      "cell_type": "code",
      "source": [
        "#Q7 ans- '#' is used to give single-line comments in python"
      ],
      "metadata": {
        "id": "GmYllpISiwVc"
      },
      "execution_count": 11,
      "outputs": []
    },
    {
      "cell_type": "code",
      "source": [
        "#Q8 ans -\n",
        "import sys\n",
        "\n",
        "print(sys.version)"
      ],
      "metadata": {
        "colab": {
          "base_uri": "https://localhost:8080/"
        },
        "id": "czM9uAf3mslV",
        "outputId": "5a18cfaf-6791-43b8-c61e-977f82371f71"
      },
      "execution_count": 12,
      "outputs": [
        {
          "output_type": "stream",
          "name": "stdout",
          "text": [
            "3.10.12 (main, Jun  7 2023, 12:45:35) [GCC 9.4.0]\n"
          ]
        }
      ]
    },
    {
      "cell_type": "code",
      "source": [
        "#Q10 ans-Pip Installs Packages"
      ],
      "metadata": {
        "id": "s8mRNXh4nRDv"
      },
      "execution_count": 14,
      "outputs": []
    },
    {
      "cell_type": "code",
      "source": [
        "#Q11 ans- lambda,sort, range, etc"
      ],
      "metadata": {
        "id": "Oznq7IxGqYhg"
      },
      "execution_count": 16,
      "outputs": []
    },
    {
      "cell_type": "code",
      "source": [
        "#Q12 ans - upto 255characters"
      ],
      "metadata": {
        "id": "PzKx65LzqsyA"
      },
      "execution_count": 18,
      "outputs": []
    },
    {
      "cell_type": "code",
      "source": [
        "#Q13 ans- some benefits of using python\n",
        "#Readability and Simplicity\n",
        "#Large and Active Community\n",
        "#Extensive Libraries and Frameworks\n",
        "#cross-Platform Compatibility\n",
        "#Rapid Prototyping and Development"
      ],
      "metadata": {
        "id": "U3hC5Dkpq9zd"
      },
      "execution_count": 20,
      "outputs": []
    },
    {
      "cell_type": "code",
      "source": [
        "#Q14 ans-memory management is handled automatically through a combination of techniques, including reference counting and a garbage collector"
      ],
      "metadata": {
        "id": "X6VvK83-rMiw"
      },
      "execution_count": 21,
      "outputs": []
    },
    {
      "cell_type": "code",
      "source": [
        "#Q15 ans- To install Python on Windows, follow these steps:\n",
        "\n",
        "# Download the Python installer from the official Python website.\n",
        "# Run the installer and select the option to install for all users.\n",
        "# Choose the installation location and ensure the \"Add Python to PATH\" option is selected.\n",
        "# Complete the installation by clicking on the \"Install Now\" button.\n",
        "# To set the PATH variables:\n",
        "# Open the System Properties window by right-clicking on the \"This PC\" or \"My Computer\" icon and selecting \"Properties.\"\n",
        "#  Click on \"Advanced system settings\" and then on \"Environment Variables.\"\n",
        "# In the \"System variables\" section, select the \"Path\" variable and click on \"Edit.\"\n",
        "# Add the path to the Python installation directory (e.g., C:\\Python39) at the end of the variable value, separated by a semicolon.\n",
        "# Click \"OK\" to save the changes."
      ],
      "metadata": {
        "id": "FDjwRvXbs4Cq"
      },
      "execution_count": 23,
      "outputs": []
    },
    {
      "cell_type": "code",
      "source": [
        "#Q16 ans-Yes, indentation is required in Python. Unlike many other programming languages that use braces or brackets to define blocks of code, Python uses indentation to indicate the structure and hierarchy of the code. Indentation is used to group statements together and define code blocks, such as those inside functions, loops, and conditional statements."
      ],
      "metadata": {
        "id": "96f1v9uItc3w"
      },
      "execution_count": null,
      "outputs": []
    },
    {
      "cell_type": "code",
      "source": [],
      "metadata": {
        "id": "4-BshfeNt2Mj"
      },
      "execution_count": null,
      "outputs": []
    }
  ]
}