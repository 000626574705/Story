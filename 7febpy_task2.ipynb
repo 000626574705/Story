{
  "nbformat": 4,
  "nbformat_minor": 0,
  "metadata": {
    "colab": {
      "provenance": [],
      "authorship_tag": "ABX9TyP+5XZVc3HMDur/djC6ytBF",
      "include_colab_link": true
    },
    "kernelspec": {
      "name": "python3",
      "display_name": "Python 3"
    },
    "language_info": {
      "name": "python"
    }
  },
  "cells": [
    {
      "cell_type": "markdown",
      "metadata": {
        "id": "view-in-github",
        "colab_type": "text"
      },
      "source": [
        "<a href=\"https://colab.research.google.com/github/000626574705/python/blob/main/7febpy_task2.ipynb\" target=\"_parent\"><img src=\"https://colab.research.google.com/assets/colab-badge.svg\" alt=\"Open In Colab\"/></a>"
      ]
    },
    {
      "cell_type": "code",
      "execution_count": 23,
      "metadata": {
        "colab": {
          "base_uri": "https://localhost:8080/"
        },
        "id": "m40pYa8NuPGu",
        "outputId": "b0abd88d-5de7-4f22-c568-be95d7e790cb"
      },
      "outputs": [
        {
          "output_type": "stream",
          "name": "stdout",
          "text": [
            "Enter the password: ddWW55\n",
            "invalid password\n"
          ]
        }
      ],
      "source": [
        "#Q1\n",
        "import re\n",
        "\n",
        "def validate_password(password):\n",
        "    # Check length\n",
        "    if len(password) == 10:\n",
        "\n",
        "\n",
        "\n",
        "    # Check uppercase letters\n",
        "        if len(re.findall(r'[A-Z]', password)) < 2:\n",
        "             return \"Invalid Password\"\n",
        "\n",
        "    # Check lowercase letters\n",
        "        if len(re.findall(r'[a-z]', password)) < 2:\n",
        "             return \"Invalid Password\"\n",
        "\n",
        "    # Check numbers\n",
        "        if len(re.findall(r'\\d', password)) < 1:\n",
        "             return \"Invalid Password\"\n",
        "\n",
        "    # Check special characters\n",
        "        if len(re.findall(r'[^a-zA-Z0-9]', password)) <1:\n",
        "             return \"Invalid Password\"\n",
        "\n",
        "    else:\n",
        "      return \"invalid password\"\n",
        "\n",
        "password = input(\"Enter the password: \")\n",
        "result = validate_password(password)\n",
        "print(result)\n",
        "\n",
        "\n",
        "\n"
      ]
    },
    {
      "cell_type": "code",
      "source": [
        "#Q2(i)\n",
        "\n",
        "Y =lambda  string:True if string[0]==\"H\" else False"
      ],
      "metadata": {
        "id": "gG4PxJb8DnUX"
      },
      "execution_count": 35,
      "outputs": []
    },
    {
      "cell_type": "code",
      "source": [
        "Y(\"Hello\")"
      ],
      "metadata": {
        "colab": {
          "base_uri": "https://localhost:8080/"
        },
        "id": "CgpwqmlXZj2F",
        "outputId": "93d67568-1a48-4f65-d30a-ac686a798140"
      },
      "execution_count": 37,
      "outputs": [
        {
          "output_type": "execute_result",
          "data": {
            "text/plain": [
              "True"
            ]
          },
          "metadata": {},
          "execution_count": 37
        }
      ]
    },
    {
      "cell_type": "code",
      "source": [
        "Y(\"woo\")\n",
        "\n",
        "\n",
        "\n",
        "\n",
        "\n"
      ],
      "metadata": {
        "colab": {
          "base_uri": "https://localhost:8080/"
        },
        "id": "eHxF7Ye0ahmL",
        "outputId": "ad9fdddc-8121-404b-e833-886f6e236e70"
      },
      "execution_count": 38,
      "outputs": [
        {
          "output_type": "execute_result",
          "data": {
            "text/plain": [
              "False"
            ]
          },
          "metadata": {},
          "execution_count": 38
        }
      ]
    },
    {
      "cell_type": "code",
      "source": [
        "#2(ii\n",
        "Y =lambda  string:True if string.isnumeric()  else False"
      ],
      "metadata": {
        "id": "bP0hJ_Wea6nt"
      },
      "execution_count": 43,
      "outputs": []
    },
    {
      "cell_type": "code",
      "source": [
        "Y(\"KHHHB123\")"
      ],
      "metadata": {
        "colab": {
          "base_uri": "https://localhost:8080/"
        },
        "id": "9vXBcFYObp8B",
        "outputId": "aab4c9a9-819b-40c2-d159-803cbb27943b"
      },
      "execution_count": 41,
      "outputs": [
        {
          "output_type": "execute_result",
          "data": {
            "text/plain": [
              "False"
            ]
          },
          "metadata": {},
          "execution_count": 41
        }
      ]
    },
    {
      "cell_type": "code",
      "source": [
        "Y(\"1234\")"
      ],
      "metadata": {
        "colab": {
          "base_uri": "https://localhost:8080/"
        },
        "id": "PlROtXNAb6mu",
        "outputId": "7a3fbec8-a088-499b-c1fe-78d5bc6ec9db"
      },
      "execution_count": 44,
      "outputs": [
        {
          "output_type": "execute_result",
          "data": {
            "text/plain": [
              "True"
            ]
          },
          "metadata": {},
          "execution_count": 44
        }
      ]
    },
    {
      "cell_type": "code",
      "source": [
        "#2(iii)\n",
        "l=[(\"mango\",99),(\"orange\",80), (\"grapes\", 1000)]\n",
        "l1=[]\n",
        "sortedl=sorted(l,key=lambda l:l[1])\n",
        "for i in sortedl:\n",
        "  l1.append(i)\n",
        "print(l1)\n"
      ],
      "metadata": {
        "colab": {
          "base_uri": "https://localhost:8080/"
        },
        "id": "8oKClkC2b8K8",
        "outputId": "cb4b0bb1-dc00-4915-8fcc-dabb02bc34af"
      },
      "execution_count": 3,
      "outputs": [
        {
          "output_type": "stream",
          "name": "stdout",
          "text": [
            "[('orange', 80), ('mango', 99), ('grapes', 1000)]\n"
          ]
        }
      ]
    },
    {
      "cell_type": "code",
      "source": [
        "#2(iv)\n",
        "def sqr():\n",
        " l=range(1,11)\n",
        " square=list(map(lambda x:x**2,l))\n",
        " print(square)\n"
      ],
      "metadata": {
        "id": "iNJX8NSAxx6N"
      },
      "execution_count": 22,
      "outputs": []
    },
    {
      "cell_type": "code",
      "source": [
        "sqr()\n"
      ],
      "metadata": {
        "colab": {
          "base_uri": "https://localhost:8080/"
        },
        "id": "7evmQHDNyJa2",
        "outputId": "5d721149-5aed-4302-fbb3-918a327be293"
      },
      "execution_count": 23,
      "outputs": [
        {
          "output_type": "stream",
          "name": "stdout",
          "text": [
            "[1, 4, 9, 16, 25, 36, 49, 64, 81, 100]\n"
          ]
        }
      ]
    },
    {
      "cell_type": "code",
      "source": [
        "#2(v)\n",
        "def cube():\n",
        " l=range(1,11)\n",
        " cubes=list(map(lambda x:x**3,l))\n",
        " print(cubes)\n"
      ],
      "metadata": {
        "id": "JgaGxGRLzA6C"
      },
      "execution_count": 27,
      "outputs": []
    },
    {
      "cell_type": "code",
      "source": [
        "cube()"
      ],
      "metadata": {
        "colab": {
          "base_uri": "https://localhost:8080/"
        },
        "id": "v9EKNJSozn28",
        "outputId": "90cb652a-edbe-4631-b0f1-436d61fbc5c2"
      },
      "execution_count": 29,
      "outputs": [
        {
          "output_type": "stream",
          "name": "stdout",
          "text": [
            "[1, 8, 27, 64, 125, 216, 343, 512, 729, 1000]\n"
          ]
        }
      ]
    },
    {
      "cell_type": "code",
      "source": [
        "#2(vi)\n",
        "is_even = lambda num: num % 2 == 0\n",
        "\n",
        "# Example usage:\n",
        "number = int(input())\n",
        "\n",
        "if is_even(number):\n",
        "    print(\"The number is even.\")\n",
        "else:\n",
        "    print(\"The number is odd.\")\n"
      ],
      "metadata": {
        "colab": {
          "base_uri": "https://localhost:8080/"
        },
        "id": "-NMg-r-5zrtJ",
        "outputId": "e2c4e6be-5710-4e57-9a02-c0861cee7adb"
      },
      "execution_count": 31,
      "outputs": [
        {
          "output_type": "stream",
          "name": "stdout",
          "text": [
            "45\n",
            "The number is odd.\n"
          ]
        }
      ]
    },
    {
      "cell_type": "code",
      "source": [
        "#2(vii)\n",
        "l=[1,2,3,4,5,6,7,8,9,10]\n",
        "is_odd = list(filter(lambda x:x%2!=0,l))\n",
        "print(is_odd)"
      ],
      "metadata": {
        "colab": {
          "base_uri": "https://localhost:8080/"
        },
        "id": "vkzFQ00C0qSd",
        "outputId": "3866472d-6dbb-43b9-b84d-f3649e90d963"
      },
      "execution_count": 35,
      "outputs": [
        {
          "output_type": "stream",
          "name": "stdout",
          "text": [
            "[1, 3, 5, 7, 9]\n"
          ]
        }
      ]
    },
    {
      "cell_type": "code",
      "source": [
        "#2(viii)\n",
        "l=[1,2,3,4,5,6,-1,-2,-3,-4,-5,0]\n",
        "l1 = []\n",
        "l2=[]\n",
        "for i in l:\n",
        "  if i<0:\n",
        "    l1.append(i)\n",
        "  elif i>=0:\n",
        "    l2.append(i)\n",
        "print(l1)\n",
        "print(l2)"
      ],
      "metadata": {
        "colab": {
          "base_uri": "https://localhost:8080/"
        },
        "id": "GOk0-qVZbAQD",
        "outputId": "bf679b84-52bb-4322-cc7c-4cc9a4d76812"
      },
      "execution_count": 40,
      "outputs": [
        {
          "output_type": "stream",
          "name": "stdout",
          "text": [
            "[-1, -2, -3, -4, -5]\n",
            "[1, 2, 3, 4, 5, 6, 0]\n"
          ]
        }
      ]
    },
    {
      "cell_type": "code",
      "source": [],
      "metadata": {
        "id": "qmOui5BFcwf_"
      },
      "execution_count": null,
      "outputs": []
    }
  ]
}