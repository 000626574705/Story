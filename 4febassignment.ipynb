{
  "nbformat": 4,
  "nbformat_minor": 0,
  "metadata": {
    "colab": {
      "provenance": [],
      "authorship_tag": "ABX9TyMEDaaKRakl+vCiCz2KGJOP",
      "include_colab_link": true
    },
    "kernelspec": {
      "name": "python3",
      "display_name": "Python 3"
    },
    "language_info": {
      "name": "python"
    }
  },
  "cells": [
    {
      "cell_type": "markdown",
      "metadata": {
        "id": "view-in-github",
        "colab_type": "text"
      },
      "source": [
        "<a href=\"https://colab.research.google.com/github/000626574705/python/blob/main/4febassignment.ipynb\" target=\"_parent\"><img src=\"https://colab.research.google.com/assets/colab-badge.svg\" alt=\"Open In Colab\"/></a>"
      ]
    },
    {
      "cell_type": "code",
      "execution_count": null,
      "metadata": {
        "colab": {
          "base_uri": "https://localhost:8080/"
        },
        "id": "rM3FMqxuXmuV",
        "outputId": "e4496bd8-13c9-4f0f-cf08-25faa5e6207b"
      },
      "outputs": [
        {
          "output_type": "stream",
          "name": "stdout",
          "text": [
            "[('Virat Kohli', 24936), ('Jack Kallis', 25534), ('Ricky Ponting', 27483), ('Sachin Tendulkar', 34357)]\n"
          ]
        }
      ],
      "source": [
        "#Q1\n",
        "l1=[]\n",
        "l = [('Sachin Tendulkar',34357),('Ricky Ponting',27483),('Jack Kallis',25534),('Virat Kohli',24936)]\n",
        "sortedl= sorted(l,key=lambda x:x[1])\n",
        "for i in sortedl:\n",
        "  l1.append(i)\n",
        "print(l1)\n",
        "\n",
        "\n",
        "\n"
      ]
    },
    {
      "cell_type": "code",
      "source": [
        "#Q2\n",
        "l=[1,2,3,4,5,6,7,8,9,10]\n",
        "list(map(lambda x:x**2,l))"
      ],
      "metadata": {
        "colab": {
          "base_uri": "https://localhost:8080/"
        },
        "id": "r_ZseEDUbrtJ",
        "outputId": "1cfabc57-80f7-4976-aa43-6dc7a8d0b35d"
      },
      "execution_count": null,
      "outputs": [
        {
          "output_type": "execute_result",
          "data": {
            "text/plain": [
              "[1, 4, 9, 16, 25, 36, 49, 64, 81, 100]"
            ]
          },
          "metadata": {},
          "execution_count": 13
        }
      ]
    },
    {
      "cell_type": "code",
      "source": [
        "#Q3\n",
        "l=[1,2,3,4,5,6,7,8,9,10]\n",
        "list(map(lambda x:str(int(x)),l))\n"
      ],
      "metadata": {
        "colab": {
          "base_uri": "https://localhost:8080/"
        },
        "id": "-HnUik7wdoAl",
        "outputId": "ba9d9870-d481-420d-be49-731631aa7538"
      },
      "execution_count": null,
      "outputs": [
        {
          "output_type": "execute_result",
          "data": {
            "text/plain": [
              "['1', '2', '3', '4', '5', '6', '7', '8', '9', '10']"
            ]
          },
          "metadata": {},
          "execution_count": 17
        }
      ]
    },
    {
      "cell_type": "code",
      "source": [
        "#Q4\n",
        "from functools import reduce\n",
        "l= list(range(1,26))\n",
        "product = reduce(lambda x, y: x * y,l)\n",
        "print(product)"
      ],
      "metadata": {
        "id": "6DY8mVXzds0y",
        "colab": {
          "base_uri": "https://localhost:8080/"
        },
        "outputId": "70c13b67-1c73-4656-eaa0-011bf581b8d7"
      },
      "execution_count": 5,
      "outputs": [
        {
          "output_type": "stream",
          "name": "stdout",
          "text": [
            "15511210043330985984000000\n"
          ]
        }
      ]
    },
    {
      "cell_type": "code",
      "source": [
        "#Q5\n",
        "l=[2,3,6,9,27,60,90,120,55,46]\n",
        "list(filter(lambda x : x%2==0 and x%3==0,l))"
      ],
      "metadata": {
        "id": "WGQnY9sypBDz",
        "colab": {
          "base_uri": "https://localhost:8080/"
        },
        "outputId": "873149db-3ffa-46df-f45b-d17ceb3e7bb6"
      },
      "execution_count": 10,
      "outputs": [
        {
          "output_type": "execute_result",
          "data": {
            "text/plain": [
              "[6, 60, 90, 120]"
            ]
          },
          "metadata": {},
          "execution_count": 10
        }
      ]
    },
    {
      "cell_type": "code",
      "source": [
        "#Q6\n",
        "l=[\"python\",\"php\",\"aba\",\"radar\",\"level\"]\n",
        "list(filter(lambda x :x==x[::-1] ,l))"
      ],
      "metadata": {
        "colab": {
          "base_uri": "https://localhost:8080/"
        },
        "id": "jK5XCpVDsnTt",
        "outputId": "68f63f33-d36b-4d02-dbda-7bdca16fb544"
      },
      "execution_count": 12,
      "outputs": [
        {
          "output_type": "execute_result",
          "data": {
            "text/plain": [
              "['php', 'aba', 'radar', 'level']"
            ]
          },
          "metadata": {},
          "execution_count": 12
        }
      ]
    },
    {
      "cell_type": "code",
      "source": [],
      "metadata": {
        "id": "kP0wO6USvkK_"
      },
      "execution_count": null,
      "outputs": []
    }
  ]
}