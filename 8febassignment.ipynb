{
  "nbformat": 4,
  "nbformat_minor": 0,
  "metadata": {
    "colab": {
      "provenance": [],
      "authorship_tag": "ABX9TyNNjERXRttg7KC3gRrq9ehV",
      "include_colab_link": true
    },
    "kernelspec": {
      "name": "python3",
      "display_name": "Python 3"
    },
    "language_info": {
      "name": "python"
    }
  },
  "cells": [
    {
      "cell_type": "markdown",
      "metadata": {
        "id": "view-in-github",
        "colab_type": "text"
      },
      "source": [
        "<a href=\"https://colab.research.google.com/github/000626574705/python/blob/main/8febassignment.ipynb\" target=\"_parent\"><img src=\"https://colab.research.google.com/assets/colab-badge.svg\" alt=\"Open In Colab\"/></a>"
      ]
    },
    {
      "cell_type": "code",
      "execution_count": 1,
      "metadata": {
        "colab": {
          "base_uri": "https://localhost:8080/"
        },
        "id": "l1mIKC42ihTG",
        "outputId": "931e211d-11f4-4abc-9c1a-477c1de4a994"
      },
      "outputs": [
        {
          "output_type": "stream",
          "name": "stdout",
          "text": [
            "Buddy\n",
            "Woof!\n",
            "Whiskers\n",
            "Meow!\n"
          ]
        }
      ],
      "source": [
        "#Q1 ans-Abstraction allows developers to create classes or objects that encapsulate data and related functionality into a cohesive unit. The idea is to define a clear interface or set of methods that expose only the necessary operations to interact with the object, while hiding the internal implementation details.By using abstraction, developers can create reusable and modular code that promotes code organization, maintainability, and extensibility. It helps in managing complexity by breaking down a system into smaller, more manageable components, each responsible for a specific set of functionalities.\n",
        "#example-\n",
        "from abc import ABC, abstractmethod\n",
        "\n",
        "class Animal(ABC):\n",
        "    def __init__(self, name):\n",
        "        self.name = name\n",
        "\n",
        "    @abstractmethod\n",
        "    def sound(self):\n",
        "        pass\n",
        "\n",
        "class Dog(Animal):\n",
        "    def sound(self):\n",
        "        return \"Woof!\"\n",
        "\n",
        "class Cat(Animal):\n",
        "    def sound(self):\n",
        "        return \"Meow!\"\n",
        "\n",
        "dog = Dog(\"Buddy\")\n",
        "cat = Cat(\"Whiskers\")\n",
        "\n",
        "print(dog.name)\n",
        "print(dog.sound())\n",
        "print(cat.name)\n",
        "print(cat.sound())\n",
        "\n",
        "\n"
      ]
    },
    {
      "cell_type": "code",
      "source": [
        "#Q2 ans-\n",
        "#Abstraction focuses on representing the essential characteristics and behaviors of an object while hiding unnecessary details.\n",
        "#It allows us to create simplified models of real-world entities in a software system.\n",
        "#Abstraction is achieved through mechanisms like classes, interfaces, and abstract classes.\n",
        "#The goal of abstraction is to provide a clear and simplified interface to interact with objects.\n",
        "#example of abstraction\n",
        "\n",
        "from abc import ABC ,abstractmethod\n",
        "class car(ABC):\n",
        "  @abstractmethod\n",
        "  def area(self):\n",
        "    pass\n",
        "class Xuv(car):\n",
        "  def __init__(self,length,width):\n",
        "    self.length=length\n",
        "    self.width=width\n",
        "  def area(self):\n",
        "    return self.length*self.width\n",
        "model=Xuv(15,16)\n",
        "print(model.area())\n",
        "\n",
        "\n",
        "#Encapsulation-Encapsulation focuses on bundling data and methods together within a class and controlling access to them.\n",
        "#It hides the internal details of an object and allows interaction with the object through well-defined interfaces.\n",
        "#Encapsulation helps in maintaining data integrity and prevents direct access to internal data from outside the class.\n",
        "\n",
        "class bank:\n",
        "  def __init__(self,acno,money):\n",
        "    self.acno=acno\n",
        "    self.money=money\n",
        "  def deposit(self,amount):\n",
        "      self.money= self.money+amount\n",
        "  def get_bal(self):\n",
        "     return self.money\n",
        "\n",
        "acc=bank(1222343,12456)\n",
        "acc.deposit(122)\n",
        "acc.get_bal()"
      ],
      "metadata": {
        "colab": {
          "base_uri": "https://localhost:8080/"
        },
        "id": "EVvuErCjjhIr",
        "outputId": "442a533d-ee88-4734-c7d5-5f4a1ad781ee"
      },
      "execution_count": 16,
      "outputs": [
        {
          "output_type": "stream",
          "name": "stdout",
          "text": [
            "240\n"
          ]
        },
        {
          "output_type": "execute_result",
          "data": {
            "text/plain": [
              "12578"
            ]
          },
          "metadata": {},
          "execution_count": 16
        }
      ]
    },
    {
      "cell_type": "code",
      "source": [
        "#Q3 ANS-the abc module stands for \"Abstract Base Classes.\" It provides infrastructure for creating abstract classes, which are classes that cannot be instantiated directly but serve as a blueprint for other classes. The abc module is used to implement abstraction and enforce certain rules or contracts in class hierarchies.USed  in absraction ,interface Enforcement,polymorphism etc\n"
      ],
      "metadata": {
        "id": "aG8Px6r0nGds"
      },
      "execution_count": 18,
      "outputs": []
    },
    {
      "cell_type": "code",
      "source": [
        "#Q4 ans-by Encapsulation,Access Modifiers,Property Decorators"
      ],
      "metadata": {
        "id": "TMnUkywaqf71"
      },
      "execution_count": 19,
      "outputs": []
    },
    {
      "cell_type": "code",
      "source": [
        "#Q5 ans-No, we cannot create an instance of an abstract class in Python. Abstract classes are meant to be used as blueprints for other classes, and they cannot be instantiated directly.\n",
        "\n",
        "#Attempting to create an instance of an abstract class will result in a TypeError with a message indicating that the abstract class cannot be instantiated.\n",
        "from abc import ABC, abstractmethod\n",
        "\n",
        "class AbstractClass(ABC):\n",
        "    @abstractmethod\n",
        "    def some_method(self):\n",
        "        pass\n",
        "\n",
        "instance = AbstractClass()"
      ],
      "metadata": {
        "id": "N_oqPB-hq0PC",
        "outputId": "8ec09c28-8f09-4b74-c59f-723c1e87e28b",
        "colab": {
          "base_uri": "https://localhost:8080/",
          "height": 217
        }
      },
      "execution_count": 20,
      "outputs": [
        {
          "output_type": "error",
          "ename": "TypeError",
          "evalue": "ignored",
          "traceback": [
            "\u001b[0;31m---------------------------------------------------------------------------\u001b[0m",
            "\u001b[0;31mTypeError\u001b[0m                                 Traceback (most recent call last)",
            "\u001b[0;32m<ipython-input-20-36f2283fede1>\u001b[0m in \u001b[0;36m<cell line: 11>\u001b[0;34m()\u001b[0m\n\u001b[1;32m      9\u001b[0m         \u001b[0;32mpass\u001b[0m\u001b[0;34m\u001b[0m\u001b[0;34m\u001b[0m\u001b[0m\n\u001b[1;32m     10\u001b[0m \u001b[0;34m\u001b[0m\u001b[0m\n\u001b[0;32m---> 11\u001b[0;31m \u001b[0minstance\u001b[0m \u001b[0;34m=\u001b[0m \u001b[0mAbstractClass\u001b[0m\u001b[0;34m(\u001b[0m\u001b[0;34m)\u001b[0m\u001b[0;34m\u001b[0m\u001b[0;34m\u001b[0m\u001b[0m\n\u001b[0m",
            "\u001b[0;31mTypeError\u001b[0m: Can't instantiate abstract class AbstractClass with abstract method some_method"
          ]
        }
      ]
    }
  ]
}