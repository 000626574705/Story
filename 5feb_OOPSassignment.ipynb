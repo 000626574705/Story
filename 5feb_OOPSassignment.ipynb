{
  "nbformat": 4,
  "nbformat_minor": 0,
  "metadata": {
    "colab": {
      "provenance": [],
      "authorship_tag": "ABX9TyMwBkdaEM4XzZ6OmQO2zdVY",
      "include_colab_link": true
    },
    "kernelspec": {
      "name": "python3",
      "display_name": "Python 3"
    },
    "language_info": {
      "name": "python"
    }
  },
  "cells": [
    {
      "cell_type": "markdown",
      "metadata": {
        "id": "view-in-github",
        "colab_type": "text"
      },
      "source": [
        "<a href=\"https://colab.research.google.com/github/000626574705/python/blob/main/5feb_OOPSassignment.ipynb\" target=\"_parent\"><img src=\"https://colab.research.google.com/assets/colab-badge.svg\" alt=\"Open In Colab\"/></a>"
      ]
    },
    {
      "cell_type": "code",
      "execution_count": 1,
      "metadata": {
        "colab": {
          "base_uri": "https://localhost:8080/",
          "height": 36
        },
        "id": "X38eTHbLD-w7",
        "outputId": "3c653dd4-c074-4b39-a088-cd34886ce4c2"
      },
      "outputs": [
        {
          "output_type": "execute_result",
          "data": {
            "text/plain": [
              "'car model no. is 1674'"
            ],
            "application/vnd.google.colaboratory.intrinsic+json": {
              "type": "string"
            }
          },
          "metadata": {},
          "execution_count": 1
        }
      ],
      "source": [
        "#Q1 ANS- a class is a blueprint or a template that defines the structure and behavior of objects. It serves as a blueprint because it encapsulates data (attributes) and methods (functions or procedures) that define the characteristics and actions of objects created from it.\n",
        "#     object on the other hand is the instance of the class . it concrete entity that can be created on the blueprint provided by class.\n",
        "\n",
        "# example\n",
        "class car:\n",
        "  def model(self):\n",
        "    return \"car model no. is 1674\"\n",
        "\n",
        "sd = car()\n",
        "sd.model()"
      ]
    },
    {
      "cell_type": "code",
      "source": [
        "# Q2 ANS- Four pillars of  OOPs are Polymorphism, Encapsulation , Inheritance,Abstraction"
      ],
      "metadata": {
        "id": "vvRcFBMZFwS4"
      },
      "execution_count": 2,
      "outputs": []
    },
    {
      "cell_type": "code",
      "source": [
        "#Q3 ANS- __init__()  function is a special method in python class also known as constructor . It automatically  called when object is created used for attribute initialization ,attribute assignment,parameter passing,encapsulation,object setup\n",
        "#example\n",
        "class test:\n",
        "  def __init__ (self,a,b):\n",
        "    self.a=a\n",
        "    self.b=b\n",
        "  def multiply(self):\n",
        "    return self.a*self.b"
      ],
      "metadata": {
        "id": "RRk0o6RTGJmG"
      },
      "execution_count": 4,
      "outputs": []
    },
    {
      "cell_type": "code",
      "source": [
        "t= test(3,4)"
      ],
      "metadata": {
        "id": "bDXTHJs8Hbwo"
      },
      "execution_count": 6,
      "outputs": []
    },
    {
      "cell_type": "code",
      "source": [
        "t.multiply()"
      ],
      "metadata": {
        "colab": {
          "base_uri": "https://localhost:8080/"
        },
        "id": "QMcoOx0WHeOA",
        "outputId": "015db8e6-bc51-4f41-aff6-2d601562e587"
      },
      "execution_count": 7,
      "outputs": [
        {
          "output_type": "execute_result",
          "data": {
            "text/plain": [
              "12"
            ]
          },
          "metadata": {},
          "execution_count": 7
        }
      ]
    },
    {
      "cell_type": "code",
      "source": [
        "#Q4  ANS- 'self' is convention used in python to refer to the instance of a class within the class  itself.  used for Instance Attribute access,method invocation,differentiate between instance and local variables ,method and attribute visulalibility"
      ],
      "metadata": {
        "id": "2a-ujEUoHk0x"
      },
      "execution_count": 8,
      "outputs": []
    },
    {
      "cell_type": "code",
      "source": [
        "#Q5 ANS-  Inheritance is a funndamental concept of OOPs that allow a class to inherit or accquire the properties and behaiviors of other class . the class being inherited by parent class.  There are two type of ingheritance we study:\n",
        "#   1st Multiple inheritance\n",
        "#    example\n",
        "class parent:\n",
        "  def data(self):\n",
        "    return \"i m parent of class1\"\n",
        "\n",
        "class class1(parent):\n",
        "  def datachild(self):\n",
        "    return\"i m child of parent\"\n",
        "\n",
        "child_obj =class1()\n",
        "child_obj.data()"
      ],
      "metadata": {
        "colab": {
          "base_uri": "https://localhost:8080/",
          "height": 36
        },
        "id": "t2Bhrcy4K_LF",
        "outputId": "e0b3410c-a01c-4b0e-a323-ca5c2819e4c4"
      },
      "execution_count": 11,
      "outputs": [
        {
          "output_type": "execute_result",
          "data": {
            "text/plain": [
              "'i m parent of class1'"
            ],
            "application/vnd.google.colaboratory.intrinsic+json": {
              "type": "string"
            }
          },
          "metadata": {},
          "execution_count": 11
        }
      ]
    },
    {
      "cell_type": "code",
      "source": [
        "# Multilevel inheritance\n",
        "# example\n",
        "class parent:\n",
        "  def data(self):\n",
        "    return \"i m parent of class1\"\n",
        "\n",
        "class parent1:\n",
        "  def data1(self):\n",
        "    return 'i m another parent of class1'\n",
        "\n",
        "class class1(parent,parent1):\n",
        "  def datachild(self):\n",
        "    return\"i m child of parent and parent1\""
      ],
      "metadata": {
        "id": "L-WAol9hMeHt"
      },
      "execution_count": 12,
      "outputs": []
    },
    {
      "cell_type": "code",
      "source": [
        "class1_obj=class1()"
      ],
      "metadata": {
        "id": "pNVWBCFTNKjc"
      },
      "execution_count": 13,
      "outputs": []
    },
    {
      "cell_type": "code",
      "source": [
        "class1_obj.data1()"
      ],
      "metadata": {
        "colab": {
          "base_uri": "https://localhost:8080/",
          "height": 36
        },
        "id": "HKWO7O14NQro",
        "outputId": "bee6955b-0fbc-4d9c-f76c-a06a97a6753c"
      },
      "execution_count": 15,
      "outputs": [
        {
          "output_type": "execute_result",
          "data": {
            "text/plain": [
              "'i m another parent of class1'"
            ],
            "application/vnd.google.colaboratory.intrinsic+json": {
              "type": "string"
            }
          },
          "metadata": {},
          "execution_count": 15
        }
      ]
    },
    {
      "cell_type": "code",
      "source": [
        "class1_obj.data()"
      ],
      "metadata": {
        "colab": {
          "base_uri": "https://localhost:8080/",
          "height": 36
        },
        "id": "0GbZcy97NUQ7",
        "outputId": "c8a093ee-f572-4c89-b5f1-736423d42198"
      },
      "execution_count": 17,
      "outputs": [
        {
          "output_type": "execute_result",
          "data": {
            "text/plain": [
              "'i m parent of class1'"
            ],
            "application/vnd.google.colaboratory.intrinsic+json": {
              "type": "string"
            }
          },
          "metadata": {},
          "execution_count": 17
        }
      ]
    },
    {
      "cell_type": "code",
      "source": [
        "class1_obj.datachild()"
      ],
      "metadata": {
        "colab": {
          "base_uri": "https://localhost:8080/",
          "height": 36
        },
        "id": "49QnFVUUNexs",
        "outputId": "fba66254-d063-4695-e1bf-29d1d062ed4f"
      },
      "execution_count": 19,
      "outputs": [
        {
          "output_type": "execute_result",
          "data": {
            "text/plain": [
              "'i m child of parent and parent1'"
            ],
            "application/vnd.google.colaboratory.intrinsic+json": {
              "type": "string"
            }
          },
          "metadata": {},
          "execution_count": 19
        }
      ]
    },
    {
      "cell_type": "code",
      "source": [],
      "metadata": {
        "id": "bNn-KQX0NklW"
      },
      "execution_count": null,
      "outputs": []
    }
  ]
}