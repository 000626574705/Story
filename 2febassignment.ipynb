{
  "nbformat": 4,
  "nbformat_minor": 0,
  "metadata": {
    "colab": {
      "provenance": [],
      "authorship_tag": "ABX9TyPaJbKkKl4mdd1Gfks1RT0M",
      "include_colab_link": true
    },
    "kernelspec": {
      "name": "python3",
      "display_name": "Python 3"
    },
    "language_info": {
      "name": "python"
    }
  },
  "cells": [
    {
      "cell_type": "markdown",
      "metadata": {
        "id": "view-in-github",
        "colab_type": "text"
      },
      "source": [
        "<a href=\"https://colab.research.google.com/github/000626574705/Story/blob/main/2febassignment.ipynb\" target=\"_parent\"><img src=\"https://colab.research.google.com/assets/colab-badge.svg\" alt=\"Open In Colab\"/></a>"
      ]
    },
    {
      "cell_type": "code",
      "execution_count": 1,
      "metadata": {
        "id": "XL4_9b-7xfXk"
      },
      "outputs": [],
      "source": [
        "# Q1\n"
      ]
    },
    {
      "cell_type": "markdown",
      "source": [],
      "metadata": {
        "id": "QSjnzoc5Xes_"
      }
    },
    {
      "cell_type": "code",
      "source": [
        "#for loops are used when you have a defined sequence or iterable to iterate over, and you know the number of iterations.\n",
        "#while loops are used when you want to repeat a block of code until a specific condition is met, and you don't know the number of iterations in advance.\n",
        "\n",
        "numbers = [1, 2, 3, 4, 5]\n",
        "for num in numbers:\n",
        "  print(num)\n",
        "   \n",
        "# for while \n",
        "count=0\n",
        "while count < 5:\n",
        "  print(count)\n",
        "  count=count+1\n",
        "       "
      ],
      "metadata": {
        "colab": {
          "base_uri": "https://localhost:8080/"
        },
        "id": "aKM3o8MxyQV2",
        "outputId": "a7253d30-461a-40a8-853e-05d4c3e49d71"
      },
      "execution_count": 9,
      "outputs": [
        {
          "output_type": "stream",
          "name": "stdout",
          "text": [
            "1\n",
            "2\n",
            "3\n",
            "4\n",
            "5\n",
            "0\n",
            "1\n",
            "2\n",
            "3\n",
            "4\n"
          ]
        }
      ]
    },
    {
      "cell_type": "code",
      "source": [
        " # Q3\n",
        "result=0\n",
        "unit=int(input())\n",
        "if unit<=100:\n",
        "    result=4.5*unit\n",
        "elif unit>100 and unit<=200:\n",
        "    result=4.5*unit+(unit-100)*4.5\n",
        "elif unit>200 and unit<=300:\n",
        "    result=10*(unit-100)+100*4.5+100*6.5\n",
        "else:\n",
        "    result=20*(unit-300)+100*10+100*6+100*4.5\n",
        "print(result)\n",
        " "
      ],
      "metadata": {
        "colab": {
          "base_uri": "https://localhost:8080/"
        },
        "id": "oNrGiB6gTBdU",
        "outputId": "e7bc8210-e783-447f-ec40-777ff425a371"
      },
      "execution_count": 7,
      "outputs": [
        {
          "output_type": "stream",
          "name": "stdout",
          "text": [
            "310\n",
            "2250.0\n"
          ]
        }
      ]
    },
    {
      "cell_type": "code",
      "source": [
        "#Q4\n",
        "l=[]\n",
        "for i in range(100):\n",
        "  if((i*i*i)%4==0 or (i*i*i)%5==0):\n",
        "    l.append(i)\n",
        "print(l)"
      ],
      "metadata": {
        "colab": {
          "base_uri": "https://localhost:8080/"
        },
        "id": "ABlfxKLDVHCA",
        "outputId": "ff83f66b-9833-4a89-b427-a9fa337ed8ef"
      },
      "execution_count": 16,
      "outputs": [
        {
          "output_type": "stream",
          "name": "stdout",
          "text": [
            "[0, 2, 4, 5, 6, 8, 10, 12, 14, 15, 16, 18, 20, 22, 24, 25, 26, 28, 30, 32, 34, 35, 36, 38, 40, 42, 44, 45, 46, 48, 50, 52, 54, 55, 56, 58, 60, 62, 64, 65, 66, 68, 70, 72, 74, 75, 76, 78, 80, 82, 84, 85, 86, 88, 90, 92, 94, 95, 96, 98]\n"
          ]
        }
      ]
    },
    {
      "cell_type": "code",
      "source": [
        "#Q5\n",
        "count=0\n",
        "string = \"I want to become a data scientist\"\n",
        "for i in string:\n",
        "  if i=='a' or i=='e' or i=='i' or i=='o' or i=='u'or i=='I'or i=='A'or i=='E'or i=='O'or i=='U':\n",
        "    count=count+1\n",
        "print(count)"
      ],
      "metadata": {
        "colab": {
          "base_uri": "https://localhost:8080/"
        },
        "id": "PMew1Hp4YyIz",
        "outputId": "c377a2b8-0529-4be5-ef7f-847009a0e2da"
      },
      "execution_count": 19,
      "outputs": [
        {
          "output_type": "stream",
          "name": "stdout",
          "text": [
            "12\n"
          ]
        }
      ]
    },
    {
      "cell_type": "code",
      "source": [],
      "metadata": {
        "id": "ZLsyip-dbPnP"
      },
      "execution_count": null,
      "outputs": []
    }
  ]
}