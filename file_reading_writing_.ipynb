{
  "nbformat": 4,
  "nbformat_minor": 0,
  "metadata": {
    "colab": {
      "provenance": [],
      "authorship_tag": "ABX9TyMLqEtW/BgE/y7CfuwVl3tf",
      "include_colab_link": true
    },
    "kernelspec": {
      "name": "python3",
      "display_name": "Python 3"
    },
    "language_info": {
      "name": "python"
    }
  },
  "cells": [
    {
      "cell_type": "markdown",
      "metadata": {
        "id": "view-in-github",
        "colab_type": "text"
      },
      "source": [
        "<a href=\"https://colab.research.google.com/github/000626574705/python/blob/main/file_reading_writing_.ipynb\" target=\"_parent\"><img src=\"https://colab.research.google.com/assets/colab-badge.svg\" alt=\"Open In Colab\"/></a>"
      ]
    },
    {
      "cell_type": "code",
      "execution_count": 1,
      "metadata": {
        "id": "2Y2wYapjBjem"
      },
      "outputs": [],
      "source": [
        "#dict data store formate\n"
      ]
    },
    {
      "cell_type": "code",
      "source": [
        "data = {\n",
        "    \"name\":\"shreeti\",\n",
        "    \"mail_id\":\"shreetikagmm123@gmail.com\",\n",
        "    \"phone-number\":6265600,\n",
        "    \"subject\":[\"data science\",\"big data\",\"data analytics\"]\n",
        "\n",
        "}"
      ],
      "metadata": {
        "id": "7ZrqxA0lBzkh"
      },
      "execution_count": 7,
      "outputs": []
    },
    {
      "cell_type": "code",
      "source": [
        "import json"
      ],
      "metadata": {
        "id": "hj_bqpneB_ZS"
      },
      "execution_count": 4,
      "outputs": []
    },
    {
      "cell_type": "code",
      "source": [
        "with open(\"data.json\",'w') as f:\n",
        "  json.dump(data,f)\n"
      ],
      "metadata": {
        "id": "_gHzBlYoCRZy"
      },
      "execution_count": 6,
      "outputs": []
    },
    {
      "cell_type": "code",
      "source": [
        "with open(\"data.json\",'r') as f:\n",
        "  data1=json.load(f)"
      ],
      "metadata": {
        "id": "2ciFcYd2CYMl"
      },
      "execution_count": 8,
      "outputs": []
    },
    {
      "cell_type": "code",
      "source": [
        "data1"
      ],
      "metadata": {
        "colab": {
          "base_uri": "https://localhost:8080/"
        },
        "id": "mIJ4mmLGFn2V",
        "outputId": "508de589-8cbd-41c2-bc54-a2042be9ee25"
      },
      "execution_count": 9,
      "outputs": [
        {
          "output_type": "execute_result",
          "data": {
            "text/plain": [
              "{'name': 'shreeti',\n",
              " 'mail_id': 'shreetikagmm123@gmail.com',\n",
              " 'phone-number': 6265603100,\n",
              " 'subject': ['data science', 'big data', 'data analytics']}"
            ]
          },
          "metadata": {},
          "execution_count": 9
        }
      ]
    },
    {
      "cell_type": "code",
      "source": [
        "data['subject']"
      ],
      "metadata": {
        "colab": {
          "base_uri": "https://localhost:8080/"
        },
        "id": "vR3F4yBWFoxi",
        "outputId": "f693b90e-06a6-449b-cd74-e07b356bb070"
      },
      "execution_count": 10,
      "outputs": [
        {
          "output_type": "execute_result",
          "data": {
            "text/plain": [
              "['data science', 'big data', 'data analytics']"
            ]
          },
          "metadata": {},
          "execution_count": 10
        }
      ]
    },
    {
      "cell_type": "code",
      "source": [
        "#csv form me data store"
      ],
      "metadata": {
        "id": "qro-nEceHhK7"
      },
      "execution_count": 21,
      "outputs": []
    },
    {
      "cell_type": "code",
      "source": [
        "import csv"
      ],
      "metadata": {
        "id": "-iS2HNIfFuKY"
      },
      "execution_count": 17,
      "outputs": []
    },
    {
      "cell_type": "code",
      "source": [
        "data = [[\"name\",\"email_id\",\"pid\"],\n",
        "        [\"sudh\",\"sudh@gmail.com\",512],\n",
        "         [\"krisjj\",\"krihjjnhjn\",513  ]]"
      ],
      "metadata": {
        "id": "lmBmEQd2GK2k"
      },
      "execution_count": 16,
      "outputs": []
    },
    {
      "cell_type": "code",
      "source": [
        "with open(\"data.csv\",'w') as f:\n",
        "  writer=csv.writer(f)\n",
        "  for i in data:\n",
        "    writer.writerow(i)"
      ],
      "metadata": {
        "id": "7X3rPVYpGjRU"
      },
      "execution_count": 20,
      "outputs": []
    },
    {
      "cell_type": "code",
      "source": [
        "#to read csv data\n",
        "with open(\"data.csv\",'r') as f:\n",
        "  read_data = csv.reader(f)\n",
        "\n",
        "  for i in read_data:\n",
        "    print(i)"
      ],
      "metadata": {
        "colab": {
          "base_uri": "https://localhost:8080/"
        },
        "id": "EWKYKOEDGv4k",
        "outputId": "c341295a-89c4-4932-928c-777f0dc48a61"
      },
      "execution_count": 22,
      "outputs": [
        {
          "output_type": "stream",
          "name": "stdout",
          "text": [
            "['name', 'email_id', 'pid']\n",
            "['sudh', 'sudh@gmail.com', '512']\n",
            "['krisjj', 'krihjjnhjn', '513']\n"
          ]
        }
      ]
    },
    {
      "cell_type": "code",
      "source": [
        "#to read and write binary data"
      ],
      "metadata": {
        "id": "b0wMAITQKCEA"
      },
      "execution_count": 23,
      "outputs": []
    },
    {
      "cell_type": "code",
      "source": [
        "with open(\"test.bin\",'wb') as f:\n",
        "  f.write(b\"\\x01\\x02\\x03\\x45263\")"
      ],
      "metadata": {
        "id": "NHZznJtjKHO4"
      },
      "execution_count": 25,
      "outputs": []
    },
    {
      "cell_type": "code",
      "source": [
        "with open(\"test.bin\",'rb') as f:\n",
        "  print(f.read())"
      ],
      "metadata": {
        "colab": {
          "base_uri": "https://localhost:8080/"
        },
        "id": "CD89OZ6jKstv",
        "outputId": "b36568b5-3409-45ee-e328-dd74f380d1a5"
      },
      "execution_count": 27,
      "outputs": [
        {
          "output_type": "stream",
          "name": "stdout",
          "text": [
            "b'\\x01\\x02\\x03E263'\n"
          ]
        }
      ]
    },
    {
      "cell_type": "code",
      "source": [],
      "metadata": {
        "id": "ekECWqG6LOqf"
      },
      "execution_count": null,
      "outputs": []
    }
  ]
}