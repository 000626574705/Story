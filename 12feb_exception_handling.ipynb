{
  "nbformat": 4,
  "nbformat_minor": 0,
  "metadata": {
    "colab": {
      "provenance": [],
      "authorship_tag": "ABX9TyM5cdeepe9L27xviOqemL8s",
      "include_colab_link": true
    },
    "kernelspec": {
      "name": "python3",
      "display_name": "Python 3"
    },
    "language_info": {
      "name": "python"
    }
  },
  "cells": [
    {
      "cell_type": "markdown",
      "metadata": {
        "id": "view-in-github",
        "colab_type": "text"
      },
      "source": [
        "<a href=\"https://colab.research.google.com/github/000626574705/python/blob/main/12feb_exception_handling.ipynb\" target=\"_parent\"><img src=\"https://colab.research.google.com/assets/colab-badge.svg\" alt=\"Open In Colab\"/></a>"
      ]
    },
    {
      "cell_type": "code",
      "execution_count": null,
      "metadata": {
        "id": "U35DnqLXqzvS"
      },
      "outputs": [],
      "source": [
        "#Q1 solution -  an exception is an event that occurs during the execution of a program, which disrupts the normal flow of the program's instructions. It indicates that something unexpected or erroneous has happened. When an exception occurs, the program execution is immediately halted, and the control is transferred to the appropriate exception handling code.\n",
        "\n",
        "#SyntaxError: Raised when there is a syntax error in the code.Syntax errors, on the other hand, occur during the parsing stage of the program, before it is executed. They are typically caused by incorrect syntax or grammar in the code."
      ]
    },
    {
      "cell_type": "code",
      "source": [
        "#Q2 solution - When an exception is not handled in Python, it results in the termination of the program and an error message is displayed. This error message provides information about the type of exception that occurred, along with a traceback that shows the sequence of function calls and code lines that led to the exception.\n",
        "def division_s():\n",
        "  a=10/0\n",
        "  print(a)  #without exception handling it shows error"
      ],
      "metadata": {
        "id": "9RaMF-cPrZe_"
      },
      "execution_count": null,
      "outputs": []
    },
    {
      "cell_type": "code",
      "source": [
        "division_s()"
      ],
      "metadata": {
        "colab": {
          "base_uri": "https://localhost:8080/",
          "height": 321
        },
        "id": "bp4Goo6lsfm1",
        "outputId": "9885c4dc-1682-4f3d-97c8-2dce54c2f7a5"
      },
      "execution_count": null,
      "outputs": [
        {
          "output_type": "error",
          "ename": "ZeroDivisionError",
          "evalue": "ignored",
          "traceback": [
            "\u001b[0;31m---------------------------------------------------------------------------\u001b[0m",
            "\u001b[0;31mZeroDivisionError\u001b[0m                         Traceback (most recent call last)",
            "\u001b[0;32m<ipython-input-4-a558142722a3>\u001b[0m in \u001b[0;36m<cell line: 1>\u001b[0;34m()\u001b[0m\n\u001b[0;32m----> 1\u001b[0;31m \u001b[0mdivision_s\u001b[0m\u001b[0;34m(\u001b[0m\u001b[0;34m)\u001b[0m\u001b[0;34m\u001b[0m\u001b[0;34m\u001b[0m\u001b[0m\n\u001b[0m",
            "\u001b[0;32m<ipython-input-3-57c1689f8f4c>\u001b[0m in \u001b[0;36mdivision_s\u001b[0;34m()\u001b[0m\n\u001b[1;32m      1\u001b[0m \u001b[0;31m#Q2 solution - When an exception is not handled in Python, it results in the termination of the program and an error message is displayed. This error message provides information about the type of exception that occurred, along with a traceback that shows the sequence of function calls and code lines that led to the exception.\u001b[0m\u001b[0;34m\u001b[0m\u001b[0;34m\u001b[0m\u001b[0m\n\u001b[1;32m      2\u001b[0m \u001b[0;32mdef\u001b[0m \u001b[0mdivision_s\u001b[0m\u001b[0;34m(\u001b[0m\u001b[0;34m)\u001b[0m\u001b[0;34m:\u001b[0m\u001b[0;34m\u001b[0m\u001b[0;34m\u001b[0m\u001b[0m\n\u001b[0;32m----> 3\u001b[0;31m   \u001b[0ma\u001b[0m\u001b[0;34m=\u001b[0m\u001b[0;36m10\u001b[0m\u001b[0;34m/\u001b[0m\u001b[0;36m0\u001b[0m\u001b[0;34m\u001b[0m\u001b[0;34m\u001b[0m\u001b[0m\n\u001b[0m\u001b[1;32m      4\u001b[0m   \u001b[0mprint\u001b[0m\u001b[0;34m(\u001b[0m\u001b[0ma\u001b[0m\u001b[0;34m)\u001b[0m\u001b[0;34m\u001b[0m\u001b[0;34m\u001b[0m\u001b[0m\n",
            "\u001b[0;31mZeroDivisionError\u001b[0m: division by zero"
          ]
        }
      ]
    },
    {
      "cell_type": "code",
      "source": [
        "try:      #with exception handling\n",
        "  a=10/0\n",
        "except Exception as e:\n",
        "  print(\"this is zeroDivision error i handle it\")"
      ],
      "metadata": {
        "colab": {
          "base_uri": "https://localhost:8080/"
        },
        "id": "Q11UgCZnslMk",
        "outputId": "efb802df-1b12-4985-a419-f6b082df0430"
      },
      "execution_count": null,
      "outputs": [
        {
          "output_type": "stream",
          "name": "stdout",
          "text": [
            "this is zeroDivision error i handle it\n"
          ]
        }
      ]
    },
    {
      "cell_type": "code",
      "source": [
        "#Q3 solution-  try and except is used to catch and handle exceptions.\n",
        "try:      #with exception handling\n",
        "  a=10/0\n",
        "except Exception as e:\n",
        "  print(\"this is zeroDivision error i handle it\")\n"
      ],
      "metadata": {
        "colab": {
          "base_uri": "https://localhost:8080/"
        },
        "id": "zyWZXrQfs_kQ",
        "outputId": "b999be65-38a4-4a5e-9969-55c261759ba7"
      },
      "execution_count": null,
      "outputs": [
        {
          "output_type": "stream",
          "name": "stdout",
          "text": [
            "this is zeroDivision error i handle it\n"
          ]
        }
      ]
    },
    {
      "cell_type": "code",
      "source": [
        "#Q4 a.solution\n",
        "#the else block is optional in exception handling. It provides a way to specify code that should be executed only if no exceptions occur in the corresponding try block.\n",
        "def division (a,b):\n",
        "  result=0\n",
        "  result=a/b\n",
        "\n",
        "\n",
        "\n",
        "try:\n",
        "  division(10,0)\n",
        "except ZeroDivisionError as e:\n",
        "  print(e)\n",
        "else:\n",
        "  print(a/b)\n",
        "\n",
        "\n",
        "try:\n",
        "  division(10,2)\n",
        "except ZeroDivisionError as e:\n",
        "  print(e)\n",
        "else:\n",
        "  print(\"divisible\")\n",
        "\n",
        "\n",
        "\n"
      ],
      "metadata": {
        "colab": {
          "base_uri": "https://localhost:8080/"
        },
        "id": "3DIxSHeftiD0",
        "outputId": "72f56a9f-3a90-45f5-eda6-bec5708cef8f"
      },
      "execution_count": null,
      "outputs": [
        {
          "output_type": "stream",
          "name": "stdout",
          "text": [
            "division by zero\n",
            "divisible\n"
          ]
        }
      ]
    },
    {
      "cell_type": "code",
      "source": [
        "# Q4 (b)-solution- finally box excecuted always its execution is independent of except block exceution\n",
        "# after try it happens either after except block or after execution of try block .\n",
        "\n",
        "#Example\n",
        "try:\n",
        "  a=10/0\n",
        "except Exception as e:\n",
        "  print(e)\n",
        "finally:\n",
        "  print(\"this is my execution of finally\")\n",
        "\n",
        "\n",
        "\n",
        "\n",
        "\n",
        "\n",
        "\n",
        "\n"
      ],
      "metadata": {
        "id": "0c0vJUOZu4ZO",
        "colab": {
          "base_uri": "https://localhost:8080/"
        },
        "outputId": "dd39d290-284f-4424-f660-fb622aba88ce"
      },
      "execution_count": 2,
      "outputs": [
        {
          "output_type": "stream",
          "name": "stdout",
          "text": [
            "division by zero\n",
            "this is my execution of finally\n"
          ]
        }
      ]
    },
    {
      "cell_type": "code",
      "source": [
        "#Q4 (c) raise is exceuted to raise a error\n",
        "def calculate_average_grade(grades):\n",
        "    if not grades:\n",
        "        raise ValueError(\"No grades provided. Please provide a list of grades.\")\n",
        "\n",
        "    total_sum = sum(grades)\n",
        "    num_grades = len(grades)\n",
        "    average_grade = total_sum / num_grades\n",
        "\n",
        "    return average_grade\n",
        "\n",
        "# Example usage\n",
        "grades_list = [85, 90, 92, 88]\n",
        "try:\n",
        "    average = calculate_average_grade(grades_list)\n",
        "    print(\"The average grade is:\", average)\n",
        "except ValueError as e:\n",
        "    print(\"An error occurred:\", str(e))\n",
        "\n",
        "\n",
        "\n"
      ],
      "metadata": {
        "colab": {
          "base_uri": "https://localhost:8080/"
        },
        "id": "AXqJQQ2qpEgp",
        "outputId": "3678b55c-2368-4253-b05e-f5145e4a35bf"
      },
      "execution_count": 7,
      "outputs": [
        {
          "output_type": "stream",
          "name": "stdout",
          "text": [
            "The average grade is: 88.75\n"
          ]
        }
      ]
    },
    {
      "cell_type": "code",
      "source": [
        "#Q5 solution- Custom exceptions in Python are user-defined exception classes that allow you to create and raise specific types of exceptions based on your program's requirements\n",
        "#    There are several reasons why you might need custom exceptions:\n",
        "#    1.Better Error Classification\n",
        "#    2.Code Readability\n",
        "#    3.Granular Error Handling\n",
        "\n",
        "\n",
        "#Example\n",
        "class InsufficientFundsError(Exception):\n",
        "    pass\n",
        "\n",
        "class BankAccount:\n",
        "    def __init__(self, balance):\n",
        "        self.balance = balance\n",
        "\n",
        "    def withdraw(self, amount):\n",
        "        if amount > self.balance:\n",
        "            raise InsufficientFundsError(\"Insufficient funds to make the withdrawal.\")\n",
        "\n",
        "        self.balance -= amount\n",
        "        print(\"Withdrawal successful. Remaining balance:\", self.balance)\n",
        "\n",
        "# Example usage\n",
        "try:\n",
        "    account = BankAccount(1000)\n",
        "    account.withdraw(1500)\n",
        "except InsufficientFundsError as e:\n",
        "    print(\"Error:\", str(e))\n"
      ],
      "metadata": {
        "colab": {
          "base_uri": "https://localhost:8080/"
        },
        "id": "E_TV6Qs-pdRm",
        "outputId": "62a28d98-c043-497b-ddcb-da79cdf97d81"
      },
      "execution_count": 8,
      "outputs": [
        {
          "output_type": "stream",
          "name": "stdout",
          "text": [
            "Error: Insufficient funds to make the withdrawal.\n"
          ]
        }
      ]
    },
    {
      "cell_type": "code",
      "source": [
        "#Q6 solution-\n",
        "\n",
        "class InvalidInputError(Exception):\n",
        "    pass\n",
        "\n",
        "def calculate_square_root(number):\n",
        "    if number < 0:\n",
        "        raise InvalidInputError(\"Invalid input. Cannot calculate square root of a negative number.\")\n",
        "\n",
        "    return number ** 0.5\n",
        "\n",
        "# Example usage\n",
        "try:\n",
        "    result = calculate_square_root(-6)\n",
        "    print(\"Square root:\", result)\n",
        "except InvalidInputError as e:\n",
        "    print(\"Error:\", str(e))\n"
      ],
      "metadata": {
        "colab": {
          "base_uri": "https://localhost:8080/"
        },
        "id": "B50EoYfzsHAz",
        "outputId": "4eb41144-96a8-451d-8a88-2dc9b009884c"
      },
      "execution_count": 10,
      "outputs": [
        {
          "output_type": "stream",
          "name": "stdout",
          "text": [
            "Error: Invalid input. Cannot calculate square root of a negative number.\n"
          ]
        }
      ]
    },
    {
      "cell_type": "code",
      "source": [],
      "metadata": {
        "id": "GmazuJgHspaD"
      },
      "execution_count": null,
      "outputs": []
    }
  ]
}