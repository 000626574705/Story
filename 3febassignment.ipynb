{
  "nbformat": 4,
  "nbformat_minor": 0,
  "metadata": {
    "colab": {
      "provenance": [],
      "authorship_tag": "ABX9TyODYDnVzAoa0Nz5suvShmww",
      "include_colab_link": true
    },
    "kernelspec": {
      "name": "python3",
      "display_name": "Python 3"
    },
    "language_info": {
      "name": "python"
    }
  },
  "cells": [
    {
      "cell_type": "markdown",
      "metadata": {
        "id": "view-in-github",
        "colab_type": "text"
      },
      "source": [
        "<a href=\"https://colab.research.google.com/github/000626574705/python/blob/main/3febassignment.ipynb\" target=\"_parent\"><img src=\"https://colab.research.google.com/assets/colab-badge.svg\" alt=\"Open In Colab\"/></a>"
      ]
    },
    {
      "cell_type": "code",
      "execution_count": null,
      "metadata": {
        "id": "Dvvzr9NFkT7y"
      },
      "outputs": [],
      "source": [
        "# Q1"
      ]
    },
    {
      "cell_type": "code",
      "source": [
        "# def keyword is  used to create a function"
      ],
      "metadata": {
        "id": "zXYSyPOwkcV-"
      },
      "execution_count": null,
      "outputs": []
    },
    {
      "cell_type": "code",
      "source": [
        "def oddnumm():\n",
        "    l=[]\n",
        "    for i in range(25):\n",
        "        if i%2!=0:\n",
        "            l.append(i)\n",
        "    return l"
      ],
      "metadata": {
        "id": "VvmJusrbkoTU"
      },
      "execution_count": null,
      "outputs": []
    },
    {
      "cell_type": "code",
      "source": [
        "oddnumm()"
      ],
      "metadata": {
        "colab": {
          "base_uri": "https://localhost:8080/"
        },
        "id": "ivDWDkWalXx_",
        "outputId": "111890f2-b9cd-4189-a970-f578e2e5c076"
      },
      "execution_count": null,
      "outputs": [
        {
          "output_type": "execute_result",
          "data": {
            "text/plain": [
              "[1, 3, 5, 7, 9, 11, 13, 15, 17, 19, 21, 23]"
            ]
          },
          "metadata": {},
          "execution_count": 20
        }
      ]
    },
    {
      "cell_type": "code",
      "source": [
        "# Q2"
      ],
      "metadata": {
        "id": "Fr_Mrv_PrNcY"
      },
      "execution_count": null,
      "outputs": []
    },
    {
      "cell_type": "code",
      "source": [
        "# *args is used for dynamic allocation of varialble or arguments or we use it when user want to enter multiple args and **kwargs is used for allocation of arguments in form of key:value pair"
      ],
      "metadata": {
        "id": "yYCs732brdmF"
      },
      "execution_count": null,
      "outputs": []
    },
    {
      "cell_type": "code",
      "source": [
        "def test(*args):\n",
        "  return args"
      ],
      "metadata": {
        "id": "GDpy82yxr8o_"
      },
      "execution_count": null,
      "outputs": []
    },
    {
      "cell_type": "code",
      "source": [
        "test(1,2,3)"
      ],
      "metadata": {
        "colab": {
          "base_uri": "https://localhost:8080/"
        },
        "id": "jt9hg34osIWX",
        "outputId": "ba423c3d-4ba9-4d5e-ec01-227110f98577"
      },
      "execution_count": null,
      "outputs": [
        {
          "output_type": "execute_result",
          "data": {
            "text/plain": [
              "(1, 2, 3)"
            ]
          },
          "metadata": {},
          "execution_count": 25
        }
      ]
    },
    {
      "cell_type": "code",
      "source": [
        "def test1(**kwargs):\n",
        "  return kwargs"
      ],
      "metadata": {
        "id": "ZsPq5LY3sQem"
      },
      "execution_count": null,
      "outputs": []
    },
    {
      "cell_type": "code",
      "source": [
        "test1()"
      ],
      "metadata": {
        "colab": {
          "base_uri": "https://localhost:8080/"
        },
        "id": "avozUD-Lscd4",
        "outputId": "1e336f2d-d962-4918-e90a-165696c80275"
      },
      "execution_count": null,
      "outputs": [
        {
          "output_type": "execute_result",
          "data": {
            "text/plain": [
              "{}"
            ]
          },
          "metadata": {},
          "execution_count": 37
        }
      ]
    },
    {
      "cell_type": "code",
      "source": [
        "test1(a=5,b=[1,2,3,2])"
      ],
      "metadata": {
        "colab": {
          "base_uri": "https://localhost:8080/"
        },
        "id": "bOdVDFAPsrHf",
        "outputId": "67c1c7d3-3b28-4f7e-e0f7-3dbced2a5fcc"
      },
      "execution_count": null,
      "outputs": [
        {
          "output_type": "execute_result",
          "data": {
            "text/plain": [
              "{'a': 5, 'b': [1, 2, 3, 2]}"
            ]
          },
          "metadata": {},
          "execution_count": 44
        }
      ]
    },
    {
      "cell_type": "code",
      "source": [
        "#Q3 Iterators are used to iterate over a sequence of elements or values one at a time.It provides a way to access the elements in a sequential manner, fetching the next element each time.\n",
        "# iter() and next() method is used to make object iterable .\n",
        "\n",
        "l = [2,4,6,8,10,12,14,16,18,20]\n",
        "iter_list = iter(l)\n",
        "for i in range(5):\n",
        "   nexti= next(iter_list)\n",
        "   print(nexti)\n",
        "\n",
        ""
      ],
      "metadata": {
        "id": "qoRQP-M0ttTR",
        "colab": {
          "base_uri": "https://localhost:8080/"
        },
        "outputId": "672fb619-c71a-424f-b2a7-edb121886479"
      },
      "execution_count": 10,
      "outputs": [
        {
          "output_type": "stream",
          "name": "stdout",
          "text": [
            "2\n",
            "4\n",
            "6\n",
            "8\n",
            "10\n"
          ]
        }
      ]
    },
    {
      "cell_type": "code",
      "source": [
        "#Q4 a generator function is a special type of function that returns an iterator object. It uses the yield keyword instead of return to yield a series of values one at a time, allowing for iterative processing without storing the entire sequence in memory. Generator functions are used to create generators, which are a type of iterator.\n",
        "\n",
        "def evennum(n):\n",
        "    for i in range(n):\n",
        "        if i % 2 == 0:\n",
        "            yield i\n",
        "\n",
        "# Using the generator function\n",
        "evengen = evennum(10)\n",
        "\n",
        "for num in evengen:\n",
        "    print(num)"
      ],
      "metadata": {
        "id": "nDD7ssYcvj3n",
        "colab": {
          "base_uri": "https://localhost:8080/"
        },
        "outputId": "6dbaedbf-afb3-4be1-d922-e4e673a5dfca"
      },
      "execution_count": 11,
      "outputs": [
        {
          "output_type": "stream",
          "name": "stdout",
          "text": [
            "0\n",
            "2\n",
            "4\n",
            "6\n",
            "8\n"
          ]
        }
      ]
    },
    {
      "cell_type": "code",
      "source": [
        "#Q5\n",
        "def prime_generator():\n",
        "    yield 2\n",
        "    primes = [2]\n",
        "    num = 3\n",
        "\n",
        "    while num < 1000:\n",
        "        is_prime = True\n",
        "        for prime in primes:\n",
        "            if prime * prime > num:\n",
        "                break\n",
        "            if num % prime == 0:\n",
        "                is_prime = False\n",
        "                break\n",
        "        if is_prime:\n",
        "            primes.append(num)\n",
        "            yield num\n",
        "        num += 2\n",
        "\n",
        "prime_gen = prime_generator()\n",
        "\n",
        "for _ in range(20):\n",
        "    prime = next(prime_gen)\n",
        "    print(prime)\n"
      ],
      "metadata": {
        "colab": {
          "base_uri": "https://localhost:8080/"
        },
        "id": "7KDeHK18C9Id",
        "outputId": "c88f8a1f-1b99-400d-9f0b-cb13891c69cc"
      },
      "execution_count": 12,
      "outputs": [
        {
          "output_type": "stream",
          "name": "stdout",
          "text": [
            "2\n",
            "3\n",
            "5\n",
            "7\n",
            "11\n",
            "13\n",
            "17\n",
            "19\n",
            "23\n",
            "29\n",
            "31\n",
            "37\n",
            "41\n",
            "43\n",
            "47\n",
            "53\n",
            "59\n",
            "61\n",
            "67\n",
            "71\n"
          ]
        }
      ]
    },
    {
      "cell_type": "code",
      "source": [
        "#Q6\n",
        "def fib(n):\n",
        "  count=0\n",
        "  a=0\n",
        "  b=1\n",
        "  while count<n:\n",
        "    print(a)\n",
        "    c=a+b\n",
        "    a=b\n",
        "    b=c\n",
        "    count=count+1\n",
        "\n",
        "\n"
      ],
      "metadata": {
        "id": "ceEHPu0fFt__"
      },
      "execution_count": 21,
      "outputs": []
    },
    {
      "cell_type": "code",
      "source": [
        "fib(10)"
      ],
      "metadata": {
        "colab": {
          "base_uri": "https://localhost:8080/"
        },
        "id": "_P0tmZ5oG0zR",
        "outputId": "529a523e-f7b6-4050-d667-4093abe2f8c7"
      },
      "execution_count": 22,
      "outputs": [
        {
          "output_type": "stream",
          "name": "stdout",
          "text": [
            "0\n",
            "1\n",
            "1\n",
            "2\n",
            "3\n",
            "5\n",
            "8\n",
            "13\n",
            "21\n",
            "34\n"
          ]
        }
      ]
    },
    {
      "cell_type": "code",
      "source": [
        "#Q7\n",
        "l=[]\n",
        "string = \"pwskills\"\n",
        "iter_str= iter(string)\n",
        "for i in string:\n",
        "  nexti = next(iter_str)\n",
        "  l.append(nexti)\n",
        "print(l)"
      ],
      "metadata": {
        "colab": {
          "base_uri": "https://localhost:8080/"
        },
        "id": "q3kkLPLsG2lw",
        "outputId": "a20196ea-f966-496d-c7d5-13ceb937b059"
      },
      "execution_count": 26,
      "outputs": [
        {
          "output_type": "stream",
          "name": "stdout",
          "text": [
            "['p', 'w', 's', 'k', 'i', 'l', 'l', 's']\n"
          ]
        }
      ]
    },
    {
      "cell_type": "code",
      "source": [
        "#Q8\n",
        "def is_palindrome(number):\n",
        "    original_number = number\n",
        "    reversed_number = 0\n",
        "\n",
        "    while number > 0:\n",
        "        remainder = number % 10\n",
        "        reversed_number = (reversed_number * 10) + remainder\n",
        "        number = number // 10\n",
        "\n",
        "    if original_number == reversed_number:\n",
        "        return True\n",
        "    else:\n",
        "        return False\n",
        "\n",
        "\n",
        "\n",
        "\n",
        "\n",
        "\n",
        "\n",
        "\n",
        "\n",
        ""
      ],
      "metadata": {
        "id": "xWbyxNrWJUXJ"
      },
      "execution_count": 83,
      "outputs": []
    },
    {
      "cell_type": "code",
      "source": [
        "is_palindrome(343)\n",
        "\n",
        "\n",
        "\n",
        "\n",
        "\n"
      ],
      "metadata": {
        "colab": {
          "base_uri": "https://localhost:8080/"
        },
        "id": "6sjo2OPpK-_s",
        "outputId": "53d35f25-fe93-41bc-bfd1-2823d6c32262"
      },
      "execution_count": 85,
      "outputs": [
        {
          "output_type": "execute_result",
          "data": {
            "text/plain": [
              "True"
            ]
          },
          "metadata": {},
          "execution_count": 85
        }
      ]
    },
    {
      "cell_type": "code",
      "source": [
        "l=list(range(1,100))"
      ],
      "metadata": {
        "id": "JoQVk-auLgsN"
      },
      "execution_count": 97,
      "outputs": []
    },
    {
      "cell_type": "code",
      "source": [
        "[i for i in range(1,101) if i%2!=0]\n"
      ],
      "metadata": {
        "colab": {
          "base_uri": "https://localhost:8080/"
        },
        "id": "I_mwG4l6PhtD",
        "outputId": "715ee251-b71a-48e5-92f9-b009d1d8a8f4"
      },
      "execution_count": 102,
      "outputs": [
        {
          "output_type": "execute_result",
          "data": {
            "text/plain": [
              "[1,\n",
              " 3,\n",
              " 5,\n",
              " 7,\n",
              " 9,\n",
              " 11,\n",
              " 13,\n",
              " 15,\n",
              " 17,\n",
              " 19,\n",
              " 21,\n",
              " 23,\n",
              " 25,\n",
              " 27,\n",
              " 29,\n",
              " 31,\n",
              " 33,\n",
              " 35,\n",
              " 37,\n",
              " 39,\n",
              " 41,\n",
              " 43,\n",
              " 45,\n",
              " 47,\n",
              " 49,\n",
              " 51,\n",
              " 53,\n",
              " 55,\n",
              " 57,\n",
              " 59,\n",
              " 61,\n",
              " 63,\n",
              " 65,\n",
              " 67,\n",
              " 69,\n",
              " 71,\n",
              " 73,\n",
              " 75,\n",
              " 77,\n",
              " 79,\n",
              " 81,\n",
              " 83,\n",
              " 85,\n",
              " 87,\n",
              " 89,\n",
              " 91,\n",
              " 93,\n",
              " 95,\n",
              " 97,\n",
              " 99]"
            ]
          },
          "metadata": {},
          "execution_count": 102
        }
      ]
    },
    {
      "cell_type": "code",
      "source": [],
      "metadata": {
        "id": "BXIbeGcBRga3"
      },
      "execution_count": null,
      "outputs": []
    }
  ]
}