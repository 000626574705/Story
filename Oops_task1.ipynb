{
  "nbformat": 4,
  "nbformat_minor": 0,
  "metadata": {
    "colab": {
      "provenance": [],
      "authorship_tag": "ABX9TyM+fRXXjGjDXxd+9OjdmwqL",
      "include_colab_link": true
    },
    "kernelspec": {
      "name": "python3",
      "display_name": "Python 3"
    },
    "language_info": {
      "name": "python"
    }
  },
  "cells": [
    {
      "cell_type": "markdown",
      "metadata": {
        "id": "view-in-github",
        "colab_type": "text"
      },
      "source": [
        "<a href=\"https://colab.research.google.com/github/000626574705/python/blob/main/Oops_task1.ipynb\" target=\"_parent\"><img src=\"https://colab.research.google.com/assets/colab-badge.svg\" alt=\"Open In Colab\"/></a>"
      ]
    },
    {
      "cell_type": "code",
      "execution_count": 5,
      "metadata": {
        "id": "LUaMaGvkiWOL"
      },
      "outputs": [],
      "source": [
        "#Q1 solution-\n",
        "class vehicle ():\n",
        "  def __init__(self,name_of_vehicle,max_speed,average_of_vehicle):\n",
        "    self.name_of_vehicle = name_of_vehicle\n",
        "    self.max_speed = max_speed\n",
        "    self.average_of_vehicle = average_of_vehicle\n",
        "\n",
        "  def show(self):\n",
        "    print(self.name_of_vehicle , self.max_speed,self.average_of_vehicle);\n"
      ]
    },
    {
      "cell_type": "code",
      "source": [
        "obj = vehicle(\"honda\" ,126 ,50)"
      ],
      "metadata": {
        "id": "dbuPx-oojyMA"
      },
      "execution_count": 6,
      "outputs": []
    },
    {
      "cell_type": "code",
      "source": [
        "obj.show()"
      ],
      "metadata": {
        "colab": {
          "base_uri": "https://localhost:8080/"
        },
        "id": "2o7gPDPQj7mo",
        "outputId": "98172d38-9fb8-435e-d29b-5b749ec410e0"
      },
      "execution_count": 7,
      "outputs": [
        {
          "output_type": "stream",
          "name": "stdout",
          "text": [
            "honda 126 50\n"
          ]
        }
      ]
    },
    {
      "cell_type": "code",
      "source": [
        "#Q2 solution-\n",
        "class vehicle ():\n",
        "  def __init__(self,name_of_vehicle,max_speed,average_of_vehicle):\n",
        "    self.name_of_vehicle = name_of_vehicle\n",
        "    self.max_speed = max_speed\n",
        "    self.average_of_vehicle = average_of_vehicle\n",
        "\n",
        "  def showmycar(self):\n",
        "\n",
        "    print( self.name_of_vehicle)\n",
        "\n",
        "\n",
        "class car(vehicle):\n",
        "  def __init__(self,seating_capacity):\n",
        "    self.seating_capacity =seating_capacity\n",
        "  def show(self):\n",
        "    print(self.seating_capacity)\n",
        "\n"
      ],
      "metadata": {
        "id": "O6wWaHXYj-Bv"
      },
      "execution_count": 27,
      "outputs": []
    },
    {
      "cell_type": "code",
      "source": [
        "obj = car(\"sedan\")"
      ],
      "metadata": {
        "id": "y-aQfgZHnXFk"
      },
      "execution_count": 35,
      "outputs": []
    },
    {
      "cell_type": "code",
      "source": [
        "obj.showmycar()\n",
        "\n"
      ],
      "metadata": {
        "colab": {
          "base_uri": "https://localhost:8080/"
        },
        "id": "BBH7rr0AlhQY",
        "outputId": "138cb0eb-ab72-46b8-e5a4-39924618e395"
      },
      "execution_count": 33,
      "outputs": [
        {
          "output_type": "stream",
          "name": "stdout",
          "text": [
            "honda\n"
          ]
        }
      ]
    },
    {
      "cell_type": "code",
      "source": [
        "obj1 = car(5)"
      ],
      "metadata": {
        "id": "B6zy0QKDl71A"
      },
      "execution_count": 45,
      "outputs": []
    },
    {
      "cell_type": "code",
      "source": [
        "obj1.show()"
      ],
      "metadata": {
        "colab": {
          "base_uri": "https://localhost:8080/"
        },
        "id": "XPbg8AemnkBQ",
        "outputId": "49f1d956-cdd8-4404-d455-497c42925f84"
      },
      "execution_count": 47,
      "outputs": [
        {
          "output_type": "stream",
          "name": "stdout",
          "text": [
            "5\n"
          ]
        }
      ]
    },
    {
      "cell_type": "code",
      "source": [
        "#Q3 solution -In a multiple inheritance scenario, a child class inherits attributes and methods from each of its parent classes. This means that the child class can access and use the attributes and methods of all its parent classes as if they were its own.\n",
        "\n",
        "class car():\n",
        "  def __init__(self,name):\n",
        "    self.name = name\n",
        "\n",
        "  def showcar(self):\n",
        "    print(self.name)\n",
        "\n",
        "class Honda():\n",
        "  def __init__(self,speed):\n",
        "    self.speed = speed\n",
        "  def showspeed(self):\n",
        "    print(self.speed)\n",
        "\n",
        "class vehicle(car,Honda):\n",
        "  def __init__(self ,name):\n",
        "    self.name=name\n",
        "  def showwheel(self):\n",
        "    print(self.name)\n",
        "\n",
        "veh = vehicle(\"honda\")\n",
        "veh.showwheel()\n",
        "\n"
      ],
      "metadata": {
        "colab": {
          "base_uri": "https://localhost:8080/"
        },
        "id": "cg1RPyvQoSDq",
        "outputId": "2919efc8-9e69-4091-fe58-b3a01fd5ceac"
      },
      "execution_count": 53,
      "outputs": [
        {
          "output_type": "stream",
          "name": "stdout",
          "text": [
            "honda\n"
          ]
        }
      ]
    },
    {
      "cell_type": "code",
      "source": [
        "#Q4 solution -getters and setters are methods used to access and modify the attributes of a class in a controlled manner. They provide a way to encapsulate the internal data of an object and ensure that it is accessed and modified through designated methods.\n",
        "\n",
        "#Getters, also known as accessor methods, are used to retrieve the value of an attribute.\n",
        "#Setters, also known as mutator methods, are used to modify the value of an attribute.\n",
        "\n",
        "class Person:\n",
        "    def __init__(self, name):\n",
        "        self._name = name\n",
        "\n",
        "    def get_name(self):\n",
        "        return self._name\n",
        "\n",
        "    def set_name(self, name):\n",
        "        if isinstance(name, str):\n",
        "            self._name = name\n",
        "        else:\n",
        "            print(\"Invalid name format!\")\n",
        "\n",
        "\n",
        "person =Person(\"sujal\")\n",
        "print(person.get_name())"
      ],
      "metadata": {
        "colab": {
          "base_uri": "https://localhost:8080/"
        },
        "id": "qE6DvM7mqBau",
        "outputId": "dbf45342-0d60-465d-fd90-6df1b43e3806"
      },
      "execution_count": 55,
      "outputs": [
        {
          "output_type": "stream",
          "name": "stdout",
          "text": [
            "sujal\n"
          ]
        }
      ]
    },
    {
      "cell_type": "code",
      "source": [
        "person.set_name(\"harish\")\n"
      ],
      "metadata": {
        "id": "S80jTP6Irat5"
      },
      "execution_count": 56,
      "outputs": []
    },
    {
      "cell_type": "code",
      "source": [
        "print(person.get_name())"
      ],
      "metadata": {
        "colab": {
          "base_uri": "https://localhost:8080/"
        },
        "id": "vNBn-YOprweU",
        "outputId": "a2cd0ca7-e405-44f6-9883-960b4b21e3ab"
      },
      "execution_count": 57,
      "outputs": [
        {
          "output_type": "stream",
          "name": "stdout",
          "text": [
            "harish\n"
          ]
        }
      ]
    },
    {
      "cell_type": "code",
      "source": [
        "#Q5 solution -Method overriding is a concept in object-oriented programming where a subclass provides its own implementation of a method that is already defined in its superclass. By overriding a method, the subclass can customize the behavior of the inherited method according to its specific requirements.\n",
        "class Animal:\n",
        "    def make_sound(self):\n",
        "        print(\"The animal makes a sound.\")\n",
        "\n",
        "class Cat(Animal):\n",
        "    def make_sound(self):\n",
        "        print(\"The cat meows.\")\n",
        "\n",
        "class Dog(Animal):\n",
        "    def make_sound(self):\n",
        "        print(\"The dog barks.\")\n",
        "\n"
      ],
      "metadata": {
        "id": "6jBL-ZFPr24X"
      },
      "execution_count": null,
      "outputs": []
    }
  ]
}