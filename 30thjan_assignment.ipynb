{
  "nbformat": 4,
  "nbformat_minor": 0,
  "metadata": {
    "colab": {
      "provenance": [],
      "authorship_tag": "ABX9TyM11A/PSKWzpWKF1N97uH63",
      "include_colab_link": true
    },
    "kernelspec": {
      "name": "python3",
      "display_name": "Python 3"
    },
    "language_info": {
      "name": "python"
    }
  },
  "cells": [
    {
      "cell_type": "markdown",
      "metadata": {
        "id": "view-in-github",
        "colab_type": "text"
      },
      "source": [
        "<a href=\"https://colab.research.google.com/github/000626574705/python/blob/main/30thjan_assignment.ipynb\" target=\"_parent\"><img src=\"https://colab.research.google.com/assets/colab-badge.svg\" alt=\"Open In Colab\"/></a>"
      ]
    },
    {
      "cell_type": "code",
      "execution_count": 2,
      "metadata": {
        "id": "2oPbo0hQv9br"
      },
      "outputs": [],
      "source": [
        "#Q1 ans-\n",
        "def show_result(n):\n",
        "  if n>90:\n",
        "    print(\"A\")\n",
        "  elif n>80 and n<=90:\n",
        "    print(\"B\")\n",
        "  elif n>=60 and n<=80:\n",
        "    print(\"C\")\n",
        "  else:\n",
        "    print(\"D\")"
      ]
    },
    {
      "cell_type": "code",
      "source": [
        "show_result(95)"
      ],
      "metadata": {
        "colab": {
          "base_uri": "https://localhost:8080/"
        },
        "id": "JNEBCD-e01zy",
        "outputId": "56c4761f-27d1-422e-f076-de9cb4d95312"
      },
      "execution_count": 3,
      "outputs": [
        {
          "output_type": "stream",
          "name": "stdout",
          "text": [
            "A\n"
          ]
        }
      ]
    },
    {
      "cell_type": "code",
      "source": [
        "show_result(35)"
      ],
      "metadata": {
        "colab": {
          "base_uri": "https://localhost:8080/"
        },
        "id": "U3H-RyMe05po",
        "outputId": "12f55cf1-80da-492c-bc36-6dbcfb414cc3"
      },
      "execution_count": 4,
      "outputs": [
        {
          "output_type": "stream",
          "name": "stdout",
          "text": [
            "D\n"
          ]
        }
      ]
    },
    {
      "cell_type": "code",
      "source": [
        "show_result(65)"
      ],
      "metadata": {
        "colab": {
          "base_uri": "https://localhost:8080/"
        },
        "id": "jSBSIEJm083j",
        "outputId": "7339c578-5919-4b8f-e3ef-50080d0b96ef"
      },
      "execution_count": 5,
      "outputs": [
        {
          "output_type": "stream",
          "name": "stdout",
          "text": [
            "C\n"
          ]
        }
      ]
    },
    {
      "cell_type": "code",
      "source": [
        "show_result(85)"
      ],
      "metadata": {
        "colab": {
          "base_uri": "https://localhost:8080/"
        },
        "id": "KXPhWI4r1A1J",
        "outputId": "45521d3e-37e1-4ccb-c3af-5e16f8dd7246"
      },
      "execution_count": 6,
      "outputs": [
        {
          "output_type": "stream",
          "name": "stdout",
          "text": [
            "B\n"
          ]
        }
      ]
    },
    {
      "cell_type": "code",
      "source": [
        "#Q2 ans-\n",
        "def tax_viewer(cost):\n",
        "  if cost>100000:\n",
        "    print(str(15)+\"%\")\n",
        "  elif cost>50000 and cost<=100000:\n",
        "    print(srt(10)+\"%\")\n",
        "  else:\n",
        "    print(str(5)+\"%\")"
      ],
      "metadata": {
        "id": "AZ-TS7No1DdS"
      },
      "execution_count": 12,
      "outputs": []
    },
    {
      "cell_type": "code",
      "source": [
        "tax_viewer(150000)"
      ],
      "metadata": {
        "colab": {
          "base_uri": "https://localhost:8080/"
        },
        "id": "Tng3OJGb1eRq",
        "outputId": "05ce8340-f0cf-449f-dfae-c0058e936bc2"
      },
      "execution_count": 11,
      "outputs": [
        {
          "output_type": "stream",
          "name": "stdout",
          "text": [
            "15%\n"
          ]
        }
      ]
    },
    {
      "cell_type": "code",
      "source": [
        "#Q3 ans-\n",
        "def display_monuments(city):\n",
        "  if city=='Delhi' or city=='delhi':\n",
        "    print(\"Red Fort\")\n",
        "  if city=='Agra' or city=='agra':\n",
        "    print(\"Taj Mahal\")\n",
        "  if city=='Jaipur' or city=='jaipur':\n",
        "    print(\"Jal Mahal\")\n"
      ],
      "metadata": {
        "id": "otpMqNUr1oYB"
      },
      "execution_count": 2,
      "outputs": []
    },
    {
      "cell_type": "code",
      "source": [
        "display_monuments(\"Delhi\")"
      ],
      "metadata": {
        "colab": {
          "base_uri": "https://localhost:8080/"
        },
        "id": "yS2wrGQo3DkA",
        "outputId": "6238c402-4ca7-420c-bbf6-8c023b17272f"
      },
      "execution_count": 5,
      "outputs": [
        {
          "output_type": "stream",
          "name": "stdout",
          "text": [
            "Red Fort\n"
          ]
        }
      ]
    },
    {
      "cell_type": "code",
      "source": [
        "#Q4 ans\n",
        "\n",
        "def test(n):\n",
        "  count=0\n",
        "  while count<=10:\n",
        "    if n%3==0:\n",
        "      count=count+1\n",
        "  print(count)\n",
        "\n"
      ],
      "metadata": {
        "id": "JYY_f8ok3qGy"
      },
      "execution_count": 22,
      "outputs": []
    },
    {
      "cell_type": "code",
      "source": [
        "test(39)"
      ],
      "metadata": {
        "colab": {
          "base_uri": "https://localhost:8080/"
        },
        "id": "wQecvXy1gKXI",
        "outputId": "ac9d783a-5828-4f5a-d32c-f97384a3a35c"
      },
      "execution_count": 23,
      "outputs": [
        {
          "output_type": "stream",
          "name": "stdout",
          "text": [
            "11\n"
          ]
        }
      ]
    },
    {
      "cell_type": "code",
      "source": [
        "#Q5 ans-The while loop in Python is used to execute a block of code repeatedly as long as a certain condition remains true. It provides a way to iterate or repeat a set of instructions until the condition becomes false. The general syntax of a while loop in Python is as follows\n",
        "i=0\n",
        "while i<10:\n",
        "  print(i)\n",
        "  i=i+1"
      ],
      "metadata": {
        "colab": {
          "base_uri": "https://localhost:8080/"
        },
        "id": "EOeLZwINgMkJ",
        "outputId": "47525930-3657-423c-efd5-1be670bb7f4a"
      },
      "execution_count": 26,
      "outputs": [
        {
          "output_type": "stream",
          "name": "stdout",
          "text": [
            "0\n",
            "1\n",
            "2\n",
            "3\n",
            "4\n",
            "5\n",
            "6\n",
            "7\n",
            "8\n",
            "9\n"
          ]
        }
      ]
    },
    {
      "cell_type": "code",
      "source": [
        "#Q6 ans-\n",
        "i=0\n",
        "j=0\n",
        "z=0\n",
        "while i<5:\n",
        "  print(\"*\")\n",
        "  i=i+2\n",
        "  while j<5:\n",
        "    print(\"*\")\n",
        "    j=j+3\n",
        "    while z<5:\n",
        "      print(\"*\")\n",
        "      z=z+1"
      ],
      "metadata": {
        "colab": {
          "base_uri": "https://localhost:8080/"
        },
        "id": "J-K7NY8Shdhy",
        "outputId": "68356552-61a0-474b-b908-f6d21488edde"
      },
      "execution_count": 30,
      "outputs": [
        {
          "output_type": "stream",
          "name": "stdout",
          "text": [
            "*\n",
            "*\n",
            "*\n",
            "*\n",
            "*\n",
            "*\n",
            "*\n",
            "*\n",
            "*\n",
            "*\n"
          ]
        }
      ]
    },
    {
      "cell_type": "code",
      "source": [
        "#Q7 ans-\n",
        "i=10\n",
        "while i>0:\n",
        "  print(i)\n",
        "  i=i-1"
      ],
      "metadata": {
        "colab": {
          "base_uri": "https://localhost:8080/"
        },
        "id": "GVBlU698icDa",
        "outputId": "44ac6b2a-23d1-4226-e61b-5351217d7a76"
      },
      "execution_count": 31,
      "outputs": [
        {
          "output_type": "stream",
          "name": "stdout",
          "text": [
            "10\n",
            "9\n",
            "8\n",
            "7\n",
            "6\n",
            "5\n",
            "4\n",
            "3\n",
            "2\n",
            "1\n"
          ]
        }
      ]
    },
    {
      "cell_type": "code",
      "source": [
        "#Q8 ans-\n",
        "i=10\n",
        "while i>0:\n",
        "  print(i)\n",
        "  i=i-1"
      ],
      "metadata": {
        "colab": {
          "base_uri": "https://localhost:8080/"
        },
        "id": "bNG66KXijHyB",
        "outputId": "f1347b6c-6993-42e6-c404-92ef33c6f95e"
      },
      "execution_count": 32,
      "outputs": [
        {
          "output_type": "stream",
          "name": "stdout",
          "text": [
            "10\n",
            "9\n",
            "8\n",
            "7\n",
            "6\n",
            "5\n",
            "4\n",
            "3\n",
            "2\n",
            "1\n"
          ]
        }
      ]
    },
    {
      "cell_type": "code",
      "source": [],
      "metadata": {
        "id": "ao8ltpcYjbo-"
      },
      "execution_count": null,
      "outputs": []
    }
  ]
}