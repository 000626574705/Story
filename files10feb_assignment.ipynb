{
  "nbformat": 4,
  "nbformat_minor": 0,
  "metadata": {
    "colab": {
      "provenance": [],
      "authorship_tag": "ABX9TyOAXjOpyrLJv1uI/OmP5WdA",
      "include_colab_link": true
    },
    "kernelspec": {
      "name": "python3",
      "display_name": "Python 3"
    },
    "language_info": {
      "name": "python"
    }
  },
  "cells": [
    {
      "cell_type": "markdown",
      "metadata": {
        "id": "view-in-github",
        "colab_type": "text"
      },
      "source": [
        "<a href=\"https://colab.research.google.com/github/000626574705/python/blob/main/files10feb_assignment.ipynb\" target=\"_parent\"><img src=\"https://colab.research.google.com/assets/colab-badge.svg\" alt=\"Open In Colab\"/></a>"
      ]
    },
    {
      "cell_type": "code",
      "execution_count": 9,
      "metadata": {
        "id": "15McL7ZnfxyE"
      },
      "outputs": [],
      "source": [
        "#Q1 solution- open() function is used to open a file if exist or to open or create a new file with open function syntax of open function open(\"filename.extension\",\"mode\")\n",
        "\n",
        "#  two different ways of opening file\n",
        "f = open(\"text.txt\",'w')  #this will create a file text.txt  in write mode\n",
        "f.write(\"this is my file\")  # with the help of this we can write in file\n",
        "f.close()    #we must close file after write action to see changes\n",
        "\n",
        "\n",
        "# another way is with open\n",
        "with open(\"text1.txt\",'w') as f:\n",
        "  f.write(\"this is my file with open\")\n",
        "  f.close()\n",
        "# different mode of file like :\n",
        "# 'r'=read (to read existing file)\n",
        "# 'w'=write (to write existing file or new made file)\n",
        "# 'a'=append (to write on existing file after existing items)\n",
        "# 'rb'=read binary\n",
        "#'wb'= write binary\n",
        "\n",
        "\n",
        "\n"
      ]
    },
    {
      "cell_type": "code",
      "source": [
        "#Q2 solution- close() function is used for closing the opened file for applying the channges.\n",
        "# important if not close() the file it remains open and action performed is not applied sucessfully\n",
        "with open(\"text1.txt\",'w') as f:\n",
        "  f.write(\"i want to close this file after writing\")\n",
        "  f.close()\n"
      ],
      "metadata": {
        "id": "nCDLNOmfgyR8"
      },
      "execution_count": 18,
      "outputs": []
    },
    {
      "cell_type": "code",
      "source": [
        "#Q3 solution-\n",
        "with open(\"text2.txt\",'w') as f:\n",
        "  f.write(\"I want to become a Data Scientist\")\n",
        "  f.close()\n",
        "with open(\"text2.txt\",'r') as f:\n",
        "\n",
        "  print(f.read())\n",
        "\n",
        "\n",
        "\n"
      ],
      "metadata": {
        "colab": {
          "base_uri": "https://localhost:8080/"
        },
        "id": "rav64yIejgQN",
        "outputId": "b885bf70-25ce-4af2-de45-8d830e0df73c"
      },
      "execution_count": 19,
      "outputs": [
        {
          "output_type": "stream",
          "name": "stdout",
          "text": [
            "I want to become a Data Scientist\n"
          ]
        }
      ]
    },
    {
      "cell_type": "code",
      "source": [
        "#Q4 solution-\n",
        "with open(\"text2.txt\", 'r') as f:\n",
        "  print(f.read(4))  # this would read upto 4th index\n",
        "  f.seek(0)\n",
        "  print(f.readlines(1)) # The readlines() method returns a list containing each line in the file as a list item.\n",
        "  f.seek(0)\n",
        "  print(f.readline(10)) # this readline upto index provided\n"
      ],
      "metadata": {
        "colab": {
          "base_uri": "https://localhost:8080/"
        },
        "id": "srwYhnrAkMKA",
        "outputId": "4f1c1613-33ec-41cb-f30e-11250505dd26"
      },
      "execution_count": 33,
      "outputs": [
        {
          "output_type": "stream",
          "name": "stdout",
          "text": [
            "I wa\n",
            "['I want to become a Data Scientist']\n",
            "I want to \n"
          ]
        }
      ]
    },
    {
      "cell_type": "code",
      "source": [
        "#Q5 solution-\n",
        "#The with statement in Python is used in conjunction with the open() function to handle file operations. The advantage of using the with statement with open() is that it automatically takes care of closing the file after it is no longer needed, even if an exception occurs.\n",
        "\n"
      ],
      "metadata": {
        "id": "BI1_xhZ-llDt"
      },
      "execution_count": 35,
      "outputs": []
    },
    {
      "cell_type": "code",
      "source": [
        "#Q6 solution-\n",
        "with open(\"text2.txt\", 'w') as f:\n",
        "  f.write(\"this is my file with my case\")\n",
        "  f.writelines(\"this kjkjn jdkjsn jkjn kjnkjjn \")\n",
        "  f.close()"
      ],
      "metadata": {
        "id": "bO4-ujquoBlD"
      },
      "execution_count": 39,
      "outputs": []
    },
    {
      "cell_type": "code",
      "source": [],
      "metadata": {
        "id": "6kcbBmJnovf9"
      },
      "execution_count": null,
      "outputs": []
    }
  ]
}